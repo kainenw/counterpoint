{
  "cells": [
    {
      "cell_type": "code",
      "execution_count": 1,
      "metadata": {},
      "outputs": [
        {
          "name": "stdout",
          "output_type": "stream",
          "text": [
            "Requirement already satisfied: pandas in /opt/anaconda3/envs/Synth/lib/python3.11/site-packages (1.5.3)\n",
            "Requirement already satisfied: python-dateutil>=2.8.1 in /opt/anaconda3/envs/Synth/lib/python3.11/site-packages (from pandas) (2.8.2)\n",
            "Requirement already satisfied: pytz>=2020.1 in /opt/anaconda3/envs/Synth/lib/python3.11/site-packages (from pandas) (2022.7.1)\n",
            "Requirement already satisfied: numpy>=1.21.0 in /opt/anaconda3/envs/Synth/lib/python3.11/site-packages (from pandas) (1.24.2)\n",
            "Requirement already satisfied: six>=1.5 in /opt/anaconda3/envs/Synth/lib/python3.11/site-packages (from python-dateutil>=2.8.1->pandas) (1.16.0)\n",
            "Note: you may need to restart the kernel to use updated packages.\n"
          ]
        }
      ],
      "source": [
        "pip install pandas"
      ]
    },
    {
      "cell_type": "code",
      "execution_count": 2,
      "metadata": {},
      "outputs": [
        {
          "name": "stdout",
          "output_type": "stream",
          "text": [
            "[0, 2, 4, 5, 7, 9, 11]\n"
          ]
        }
      ],
      "source": [
        "from classes import get_all_combos\n",
        "\n",
        "\"\"\" def getValidCombos(melody, ):\n",
        "  data = get_all_combos(melody)\n",
        "  \n",
        "  #for note in melody:\n",
        "    # remove invalid notes \"\"\"\n",
        "\n",
        "def getLabels(i):\n",
        "  str1 = \"cf\" + str(i)\n",
        "  str2 = str1 + \"_moves\"\n",
        "  return [str1, str2]"
      ]
    },
    {
      "cell_type": "code",
      "execution_count": 3,
      "metadata": {},
      "outputs": [
        {
          "name": "stdout",
          "output_type": "stream",
          "text": [
            "         cf0_moves  cf0  cf1_moves  cf1  cf2_moves  cf2  cf3_moves  cf3  \\\n",
            "0                4    0          9    5          7    4         12    9   \n",
            "1                4    0          9    5          7    4         12    9   \n",
            "2                4    0          9    5          7    4         12    9   \n",
            "3                4    0          9    5          7    4         12    9   \n",
            "6                4    0          9    5          7    4         12    9   \n",
            "...            ...  ...        ...  ...        ...  ...        ...  ...   \n",
            "1969916         19    0         21    5         23    4         21    9   \n",
            "1969917         19    0         21    5         23    4         21    9   \n",
            "1969918         19    0         21    5         23    4         21    9   \n",
            "1969919         19    0         21    5         23    4         21    9   \n",
            "1969924         19    0         21    5         23    4         21    9   \n",
            "\n",
            "         cf4_moves  cf4  ...  cf6_moves  cf6  cf7_moves  cf7  cf8_moves  cf8  \\\n",
            "0               11    7  ...         11    7          9    5          7    4   \n",
            "1               11    7  ...         11    7          9    5          7    4   \n",
            "2               11    7  ...         11    7          9    5          7    4   \n",
            "3               11    7  ...         11    7          9    5          7    4   \n",
            "6               11    7  ...         11    7          9    5          7    4   \n",
            "...            ...  ...  ...        ...  ...        ...  ...        ...  ...   \n",
            "1969916         26    7  ...         26    7         21    5         16    4   \n",
            "1969917         26    7  ...         26    7         21    5         16    4   \n",
            "1969918         26    7  ...         26    7         21    5         16    4   \n",
            "1969919         26    7  ...         26    7         21    5         16    4   \n",
            "1969924         26    7  ...         26    7         21    5         16    4   \n",
            "\n",
            "         cf9_moves  cf9  cf10_moves  cf10  \n",
            "0                5    2           4     0  \n",
            "1                5    2           7     0  \n",
            "2                5    2           9     0  \n",
            "3                5    2          12     0  \n",
            "6                9    2           4     0  \n",
            "...            ...  ...         ...   ...  \n",
            "1969916         11    2           9     0  \n",
            "1969917         11    2          12     0  \n",
            "1969918         11    2          16     0  \n",
            "1969919         11    2          19     0  \n",
            "1969924         21    2          16     0  \n",
            "\n",
            "[1409039 rows x 22 columns]\n"
          ]
        }
      ],
      "source": [
        "import pandas as pd\n",
        "\n",
        "# Todo change to getvalidcombos once function is finished\n",
        "moves = get_all_combos([0,5,4,9,7,9,7,5,4,2,0], True)\n",
        "melody = moves[\"melody\"]\n",
        "perf = [0,5,7]\n",
        "\n",
        "#create dataframe for the first two columns\n",
        "firstNote = melody[0]\n",
        "series = None\n",
        "curIndex = 0\n",
        "prevCf, prevCtp = getLabels(0)\n",
        "series = pd.DataFrame(moves[str(firstNote)], columns = [prevCtp])\n",
        "series[\"join_key\"] = 1\n",
        "series[prevCf] = firstNote\n",
        "\n",
        "# create new data frame for each note in the melody\n",
        "# join it to the previous dataframe\n",
        "for i in range(1, len(melody)):\n",
        "  note = melody[i]\n",
        "  nextIndex = i + 1\n",
        "  curMoves = moves[str(note)]\n",
        "  cf, ctp = getLabels(i)\n",
        "  addFrame = pd.DataFrame(curMoves, columns = [ctp])\n",
        "  addFrame[\"join_key\"] = 1\n",
        "  addFrame[cf] = note\n",
        "  series = series.merge(addFrame, how = \"inner\", on = \"join_key\")\n",
        "  \n",
        "  #filtering\n",
        "  series = series.loc[\n",
        "    # parallel unisons or octaves\n",
        "    ~((abs(series[prevCf] - series[prevCtp]) % 12 == 0) & (abs(series[cf] - series[ctp]) % 12 == abs(series[prevCf] - series[prevCtp]) % 12)),\n",
        "  ]\n",
        "  series = series.loc[\n",
        "    # parallel fourths\n",
        "    ~((abs(series[prevCf] - series[prevCtp]) % 12 == 5) & (abs(series[cf] - series[ctp]) % 12 == abs(series[prevCf] - series[prevCtp]) % 12)),\n",
        "  ]\n",
        "  series = series.loc[\n",
        "    # parallel fifths\n",
        "    ~((abs(series[prevCf] - series[prevCtp]) % 12 == 7) & (abs(series[cf] - series[ctp]) % 12 == abs(series[prevCf] - series[prevCtp]) % 12))\n",
        "  ]\n",
        "  series = series.loc[\n",
        "    (series[prevCtp] - 9 < series[ctp])\n",
        "  ]\n",
        "  series = series.loc[\n",
        "    (series[ctp] < series[prevCtp] + 9)\n",
        "  ]\n",
        "  prevCf, prevCtp = cf, ctp\n",
        "\n",
        "#Delete A column\n",
        "series = series.drop(\"join_key\", axis=1)\n",
        "\n",
        "print(series)"
      ]
    }
  ],
  "metadata": {
    "kernelspec": {
      "display_name": "Synth",
      "language": "python",
      "name": "python3"
    },
    "language_info": {
      "codemirror_mode": {
        "name": "ipython",
        "version": 3
      },
      "file_extension": ".py",
      "mimetype": "text/x-python",
      "name": "python",
      "nbconvert_exporter": "python",
      "pygments_lexer": "ipython3",
      "version": "3.11.0"
    },
    "orig_nbformat": 4
  },
  "nbformat": 4,
  "nbformat_minor": 2
}