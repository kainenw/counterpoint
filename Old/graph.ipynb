{
 "cells": [
  {
   "cell_type": "code",
   "execution_count": 105,
   "metadata": {},
   "outputs": [],
   "source": [
    "import networkx as nx\n",
    "import matplotlib.pyplot as plt"
   ]
  },
  {
   "cell_type": "code",
   "execution_count": 106,
   "metadata": {},
   "outputs": [],
   "source": [
    "def node_label(position, cf, ctp):\n",
    "  return str(position) + ':' + str(cf) + ',' + str(ctp)"
   ]
  },
  {
   "attachments": {},
   "cell_type": "markdown",
   "metadata": {},
   "source": [
    "## Pruning Functons"
   ]
  },
  {
   "cell_type": "code",
   "execution_count": 107,
   "metadata": {},
   "outputs": [],
   "source": [
    "# remove all nodes unreachable from a first node\n",
    "\n",
    "def remove_unreachable_nodes(graph):\n",
    "    \"\"\"\n",
    "    Remove nodes from a NetworkX graph that are not on a path to any of the specified nodes.\n",
    "\n",
    "    Args:\n",
    "        G (nx.Graph or nx.DiGraph): The input graph.\n",
    "        specified_nodes (list): List of nodes that are considered reachable.\n",
    "\n",
    "    Returns:\n",
    "        nx.Graph or nx.DiGraph: The modified graph with unreachable nodes removed.\n",
    "    \"\"\"\n",
    "    # find first nodes\n",
    "    nodes = list(graph.nodes())\n",
    "    first_nodes = []\n",
    "    for node in nodes:\n",
    "      index = int(node.split(':')[0])\n",
    "      if index == 0:\n",
    "        first_nodes.append(node)\n",
    "    \n",
    "    print(first_nodes)\n",
    "      \n",
    "    # Create a set of reachable nodes\n",
    "    reachable_nodes = set(first_nodes)\n",
    "\n",
    "    # Perform a breadth-first search from each specified node and add all reachable nodes to the set\n",
    "    for node in first_nodes:\n",
    "        reachable_nodes.update(nx.descendants(graph, node))\n",
    "\n",
    "    # Get the set of nodes that are not reachable\n",
    "    unreachable_nodes = set(graph.nodes()) - reachable_nodes\n",
    "\n",
    "    # Remove the unreachable nodes from the graph\n",
    "    graph.remove_nodes_from(unreachable_nodes)\n",
    "\n",
    "    # Return the modified graph with unreachable nodes removed\n",
    "    return graph"
   ]
  },
  {
   "cell_type": "code",
   "execution_count": 108,
   "metadata": {},
   "outputs": [],
   "source": [
    "# remove nodes not on a path to a final node\n",
    "\n",
    "def remove_unreaching_nodes(graph, final_index):\n",
    "  \"\"\"Remove nodes from a NetworkX graph that do not have a path to any of the\n",
    "  nodes in the input array.\n",
    "\n",
    "  Args:\n",
    "      G (nx.Graph or nx.DiGraph): The input graph.\n",
    "      nodes (list): List of nodes that are considered reachable.\n",
    "\n",
    "  Returns:\n",
    "      nx.Graph or nx.DiGraph: The modified graph with unreachable nodes removed.\n",
    "  \"\"\"\n",
    "  # Create a list of last nodes\n",
    "  nodes = list(graph.nodes())\n",
    "  final_nodes = []\n",
    "  for node in nodes:\n",
    "    index = int(node.split(':')[0])\n",
    "    if index == final_index:\n",
    "      final_nodes.append(node)\n",
    "  on_path = []\n",
    "\n",
    "  # add all nodes on a path to the end to on_path.\n",
    "  \n",
    "  while nodes:\n",
    "    node = nodes.pop()\n",
    "    is_on_path = None\n",
    "    for final_node in final_nodes:\n",
    "      if final_node.__contains__(node):\n",
    "        is_on_path = True\n",
    "      elif not is_on_path:\n",
    "        descendants = (nx.descendants(graph, node))\n",
    "        if descendants.__contains__(final_node):\n",
    "          is_on_path = True\n",
    "    if is_on_path:\n",
    "      on_path.append(node)\n",
    "    else:\n",
    "      print(\"hi\")\n",
    "      \n",
    "  \n",
    "  # Create a set of all of the nodes that do not have a path to any of the specified nodes.\n",
    "  \n",
    "  unreachable_nodes = set(graph.nodes()) - set(on_path)\n",
    "  \n",
    "  # Remove all of the unreachable nodes from the graph.\n",
    "  for node in unreachable_nodes:\n",
    "    graph.remove_node(node)\n",
    "  \n",
    "  return graph\n"
   ]
  },
  {
   "cell_type": "code",
   "execution_count": 110,
   "metadata": {},
   "outputs": [],
   "source": [
    "def make_network(nodes, edges, final_index, willPrint=True):\n",
    "  \"\"\"\n",
    "  input:\n",
    "    1. nodes array ( form: [a,b,c] )\n",
    "    2. edges array ( form: [(a,b),(b,c)] )\n",
    "  output:\n",
    "    a NetworkX graph\"\"\"\n",
    "    \n",
    "  graph = nx.DiGraph()\n",
    "  graph.add_nodes_from(nodes)\n",
    "  graph.add_edges_from(edges)\n",
    "  \n",
    "  graph = remove_unreachable_nodes(graph)\n",
    "  graph = remove_unreaching_nodes(graph,final_index)\n",
    "  \n",
    "  # display nodes and edges unless otherwise specified\n",
    "  if willPrint:\n",
    "    print(graph.nodes)\n",
    "    print(graph.edges)\n",
    "  \n",
    "  return graph"
   ]
  },
  {
   "cell_type": "code",
   "execution_count": 111,
   "metadata": {},
   "outputs": [],
   "source": [
    "def visualize_graph(G):\n",
    "  # Set the spring layout with custom node positions\n",
    "  pos = nx.spring_layout(G, seed=42)\n",
    "\n",
    "  #create dictionary of x-axis and y-axis indexes\n",
    "  pos_nodes = G.nodes\n",
    "  pos_node_x = {}\n",
    "  pos_node_y = {}\n",
    "  for node in pos_nodes.items():\n",
    "    node = node[0]\n",
    "    index = node.split(':')[0]\n",
    "    ctp = node.split(',')[1]\n",
    "    pos_node_y[node] = int(ctp)\n",
    "    pos_node_x[node] = (int(index), int(ctp))\n",
    "  \n",
    "  print(pos_node_x)\n",
    "\n",
    "  # Set custom x-axis positions for nodes\n",
    "  for node, coords in pos_node_x.items():\n",
    "    pos[node] = coords\n",
    "  \"\"\"or node, y in pos_node_y.items():\n",
    "    pos[node][0] = y \"\"\"\n",
    "  \n",
    "  # TODO create dictionary of y-axis positions for pitch classes\n",
    "  \n",
    "  nx.draw(G, pos, with_labels=True, arrows=True)\n",
    "  plt.figure(figsize = (2^16,2^16))"
   ]
  }
 ],
 "metadata": {
  "kernelspec": {
   "display_name": "Synth",
   "language": "python",
   "name": "python3"
  },
  "language_info": {
   "codemirror_mode": {
    "name": "ipython",
    "version": 3
   },
   "file_extension": ".py",
   "mimetype": "text/x-python",
   "name": "python",
   "nbconvert_exporter": "python",
   "pygments_lexer": "ipython3",
   "version": "3.11.0"
  },
  "orig_nbformat": 4,
  "vscode": {
   "interpreter": {
    "hash": "b51894c21c6310f6a97133478b4e90aab47e29fb8bc43fca5989366603090545"
   }
  }
 },
 "nbformat": 4,
 "nbformat_minor": 2
}
