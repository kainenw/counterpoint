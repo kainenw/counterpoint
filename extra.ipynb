{
 "cells": [
  {
   "cell_type": "code",
   "execution_count": 36,
   "metadata": {},
   "outputs": [],
   "source": [
    "# return what kind of motion is occuring between two notes\n",
    "def motionType(prevNote1,nextNote1, prevNote2,nextNote2):\n",
    "  direction1 = direction(prevNote1, nextNote1)\n",
    "  direction2 = direction(prevNote2, nextNote2)\n",
    "  type = None\n",
    "  direction = direction1\n",
    "  if(not direction1 and not direction2):\n",
    "    return False\n",
    "  elif(direction1 == 0 or direction2 == 0):\n",
    "    type = \"oblique\"\n",
    "    direction = direction1 + direction2\n",
    "  elif(direction1 == direction2):\n",
    "    type = \"parallel\"\n",
    "  elif(direction1 == direction2):\n",
    "    type = \"direct\"\n",
    "  #label inward motion -1 and outward 1\n",
    "  elif(direction1 != direction2):\n",
    "    type = \"contrary\",\n",
    "  return {\n",
    "    \"type\": type,\n",
    "    \"direction\": direction\n",
    "  }"
   ]
  },
  {
   "cell_type": "code",
   "execution_count": 35,
   "metadata": {},
   "outputs": [
    {
     "name": "stdout",
     "output_type": "stream",
     "text": [
      "Requirement already satisfied: synthesizer in /opt/anaconda3/envs/Synth/lib/python3.11/site-packages (0.2.0)\n",
      "Requirement already satisfied: enum34>=1.1.6 in /opt/anaconda3/envs/Synth/lib/python3.11/site-packages (from synthesizer) (1.1.10)\n",
      "Requirement already satisfied: numpy>=1.13.3 in /opt/anaconda3/envs/Synth/lib/python3.11/site-packages (from synthesizer) (1.24.2)\n",
      "Requirement already satisfied: scipy>=0.19.1 in /opt/anaconda3/envs/Synth/lib/python3.11/site-packages (from synthesizer) (1.10.1)\n",
      "Note: you may need to restart the kernel to use updated packages.\n"
     ]
    }
   ],
   "source": [
    "pip install synthesizer"
   ]
  },
  {
   "cell_type": "code",
   "execution_count": 37,
   "metadata": {},
   "outputs": [
    {
     "name": "stdout",
     "output_type": "stream",
     "text": [
      "Requirement already satisfied: pyaudio in /opt/anaconda3/envs/Synth/lib/python3.11/site-packages (0.2.13)\n",
      "Note: you may need to restart the kernel to use updated packages.\n"
     ]
    }
   ],
   "source": [
    "pip install pyaudio"
   ]
  },
  {
   "cell_type": "code",
   "execution_count": 44,
   "metadata": {},
   "outputs": [],
   "source": [
    "from synth import play2\n",
    "\n",
    "\n",
    "\n",
    "play2(0, -7)"
   ]
  },
  {
   "cell_type": "code",
   "execution_count": 33,
   "metadata": {},
   "outputs": [],
   "source": [
    "player.play_wave(synth.generate_constant_wave(440.0, 0.20))"
   ]
  },
  {
   "cell_type": "code",
   "execution_count": null,
   "metadata": {},
   "outputs": [],
   "source": [
    "\"\"\" if(note == 0):\n",
    "      options = [0, 4, 5, 9]\n",
    "    if(note == 2):\n",
    "      options = [2, 4, 9, 11]\n",
    "    if(note == 4):\n",
    "      options = [4, 5, 11, 8]\n",
    "    if(note == 4):\n",
    "      options = [4, 9, 0, 2]\n",
    "    if(note == 5):\n",
    "      options = [5, 9, 0, ] \"\"\""
   ]
  },
  {
   "cell_type": "code",
   "execution_count": null,
   "metadata": {},
   "outputs": [],
   "source": [
    "\"\"\" #input melody, output counter melody above\n",
    "def getAllPossibleCtp(melody, direction):\n",
    "  ctps = []\n",
    "  for nextCf in melody:\n",
    "    nextCtps = None\n",
    "    if(ctps == []):\n",
    "      if(direction == \"+\"):\n",
    "        firstCtp = nextCf + 12\n",
    "      elif(direction == \"-\"):\n",
    "        firstCtp = nextCf - 12\n",
    "      ctps.append([[nextCf, firstCtp]])\n",
    "    else:\n",
    "      ctpsCopy = [*ctps]\n",
    "      for partialCtp in ctpsCopy:\n",
    "        current = ctps[len(ctps) - 1]\n",
    "        nextCtps = allPossileMoves(current[0][1], nextCf, current[0][0])\n",
    "        for move in nextCtps:\n",
    "          total = [*partialCtp]\n",
    "          total.append([nextCf, move])\n",
    "          ctps.append(total)\n",
    "        ctps.pop(0)\n",
    "  return ctps\n",
    "\n",
    "print(getAllPossibleCtp([0,2,0], \"+\")) \"\"\"\n",
    "\"\"\"after first iteration: [[[12,0]]]\"\"\"\n",
    "\"\"\"expected output: [[[12,0], [11,2]], [[12,0], [17,2]], [[12,0], [5,2]]]\"\"\""
   ]
  },
  {
   "attachments": {},
   "cell_type": "markdown",
   "metadata": {},
   "source": [
    "## Helper Functions"
   ]
  },
  {
   "cell_type": "code",
   "execution_count": null,
   "metadata": {},
   "outputs": [],
   "source": [
    "import random \n",
    "\n",
    "def chooseRandom(range = 1):\n",
    "  num = random.random() * range\n",
    "  if(range != 1):\n",
    "    num = round(num)\n",
    "  return num"
   ]
  },
  {
   "cell_type": "code",
   "execution_count": null,
   "metadata": {},
   "outputs": [],
   "source": [
    "def getClosestNote(prevCf, nextCf, prevCtp, type = \"dia\", mode = \"i\"):\n",
    "  scale = scales[type][mode]\n",
    "  ctpIsAbove = prevCf < prevCtp\n",
    "  for i in range(1,12):\n",
    "    firstDirection = chooseRandom(2)\n",
    "    up = prevCtp + i\n",
    "    down = prevCtp - i\n",
    "    first = up if firstDirection else down\n",
    "    second = down if firstDirection else up\n",
    "    possibleCtpNotes = [first, second]\n",
    "    for nextCtp in possibleCtpNotes:\n",
    "      isCons = isConsonant(nextCf, nextCtp)\n",
    "      if(isCons):\n",
    "        if(scale.__contains__(nextCtp % 12)):\n",
    "          notCrossing = nextCtp > nextCf if ctpIsAbove else nextCtp < nextCf\n",
    "          if(notCrossing):\n",
    "            isDirectPerf = isDirectPerfect(prevCf, nextCf, prevCtp, nextCtp)\n",
    "            if(not isDirectPerf):\n",
    "              if(nextCf - 16 <= nextCtp <= nextCf + 16):\n",
    "                return nextCtp\n",
    "  if(isConsonant(prevCtp, nextCf)):\n",
    "    return prevCtp"
   ]
  },
  {
   "cell_type": "code",
   "execution_count": null,
   "metadata": {},
   "outputs": [],
   "source": [
    "#imput melody, output counter melody above\n",
    "def writeCtp(melody, direction):\n",
    "  counterMelody = []\n",
    "  prevCf = None\n",
    "  prevCtp = None\n",
    "  consecutivethirds = 0\n",
    "  for nextCf in melody:\n",
    "    \"\"\" print(nextCf) \"\"\"\n",
    "    nextCtp = None\n",
    "    if(prevCtp == None):\n",
    "      if(direction == \"+\"):\n",
    "        nextCtp = nextCf + 12\n",
    "      elif(direction == \"-\"):\n",
    "        nextCtp = nextCf - 12\n",
    "    else:\n",
    "      nextCtp = getClosestNote(prevCf, nextCf, prevCtp)\n",
    "    \"\"\" print(str(nextCf) + str(nextCtp)) \"\"\"\n",
    "    counterMelody.append([nextCf, nextCtp])\n",
    "    prevCtp = nextCtp\n",
    "    prevCf = nextCf\n",
    "  return counterMelody"
   ]
  },
  {
   "cell_type": "code",
   "execution_count": null,
   "metadata": {},
   "outputs": [],
   "source": [
    "testLowerCf = {\n",
    "  \"a\": [0, 4, 9, 5, 7, 0],\n",
    "  \"b\": [0, 2, 5, 4, 0, 2, 7, 5, 0],\n",
    "  \"c\": [0, 5, 4, 9, 7, 12, 11, 7, 5, 0, 2, 0],\n",
    "  \"d\": [0, 4, 2, 5, 4, 7, 5, 9, 7, 11, 9, 12, 11, 12],\n",
    "  \"e\": [0, 2, 4, 5, 7, 9, 11, 12, 11, 9, 7, 5, 4, 2, 0],\n",
    "  \"f\": [0, 2, 7, 5, 7, 11, 9, 4, 5, 2, 4, 5, 5, 2, 4, 0],\n",
    "}\n",
    "\n",
    "\"\"\" for line in testLowerCf:\n",
    "  ctp = writeCtp(testLowerCf[line], \"+\")\n",
    "  playFirstSpecies(ctp)\n",
    "  print(\"|\") \"\"\""
   ]
  },
  {
   "cell_type": "code",
   "execution_count": null,
   "metadata": {},
   "outputs": [],
   "source": [
    "testLowerCf = {\n",
    "  \"a\": [0, 4, 9, 5, 7, 0],\n",
    "  \"b\": [0, 2, 5, 4, 0, 2, 7, 5, 0],\n",
    "  \"c\": [0, 5, 4, 9, 7, 12, 11, 7, 5, 0, 2, 0],\n",
    "  \"d\": [0, 4, 2, 5, 4, 7, 5, 9, 7, 11, 9, 12, 11, 12],\n",
    "  \"e\": [0, 2, 4, 5, 7, 9, 11, 12, 11, 9, 7, 5, 4, 2, 0],\n",
    "  \"f\": [0, 2, 7, 5, 7, 11, 9, 4, 5, 2, 4, 5, 5, 2, 4, 0],\n",
    "}\n",
    "\n",
    "\"\"\" for line in testLowerCf:\n",
    "  ctp = writeCtp(testLowerCf[line], \"+\")\n",
    "  playFirstSpecies(ctp)\n",
    "  print(\"|\") \"\"\""
   ]
  }
 ],
 "metadata": {
  "kernelspec": {
   "display_name": "Python 3 (ipykernel)",
   "language": "python",
   "name": "python3"
  },
  "language_info": {
   "codemirror_mode": {
    "name": "ipython",
    "version": 3
   },
   "file_extension": ".py",
   "mimetype": "text/x-python",
   "name": "python",
   "nbconvert_exporter": "python",
   "pygments_lexer": "ipython3",
   "version": "3.11.0"
  },
  "vscode": {
   "interpreter": {
    "hash": "b51894c21c6310f6a97133478b4e90aab47e29fb8bc43fca5989366603090545"
   }
  }
 },
 "nbformat": 4,
 "nbformat_minor": 2
}
