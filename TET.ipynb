{
 "cells": [
  {
   "cell_type": "code",
   "execution_count": 1,
   "metadata": {},
   "outputs": [],
   "source": [
    "import math\n",
    "\n",
    "# reference pitch and reference number\n",
    "ref = {\n",
    "  'num': 49, # A4\n",
    "  'freq': 440 # Hz\n",
    "}\n",
    "\n",
    "def TTET_freq(n):\n",
    "  # distance from reference number \n",
    "  target_num = n - ref['num'] \n",
    "  \n",
    "  # distance between semitones: 12√2 \n",
    "  semitone = math.pow(2, 1 / 12)\n",
    "  \n",
    "  # ratio from reference frequency\n",
    "  ratio = math.pow(semitone, target_num)\n",
    "  \n",
    "  # frequency\n",
    "  freq = ref['freq'] * ratio\n",
    "  \n",
    "  return freq\n",
    "\n",
    "\"\"\" print(TTET_freq(48)) \"\"\"\n",
    "\n",
    "def TTET_array():\n",
    "  list = []\n",
    "  for i in range(0, 88):\n",
    "    Hz = TTET_freq(i)\n",
    "    list.append(Hz)\n",
    "  return list\n",
    "\n",
    "TTET = TTET_array()"
   ]
  }
 ],
 "metadata": {
  "kernelspec": {
   "display_name": "Synth",
   "language": "python",
   "name": "python3"
  },
  "language_info": {
   "codemirror_mode": {
    "name": "ipython",
    "version": 3
   },
   "file_extension": ".py",
   "mimetype": "text/x-python",
   "name": "python",
   "nbconvert_exporter": "python",
   "pygments_lexer": "ipython3",
   "version": "3.11.0"
  },
  "orig_nbformat": 4
 },
 "nbformat": 4,
 "nbformat_minor": 2
}
