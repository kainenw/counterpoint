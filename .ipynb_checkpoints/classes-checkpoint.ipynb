{
 "cells": [
  {
   "cell_type": "markdown",
   "metadata": {},
   "source": [
    "# Analyze cf notes and features\n"
   ]
  },
  {
   "cell_type": "markdown",
   "metadata": {},
   "source": [
    "## Pitch Class (a single note)"
   ]
  },
  {
   "cell_type": "code",
   "execution_count": 20,
   "metadata": {
    "tags": []
   },
   "outputs": [],
   "source": [
    "# pitch class from 0 to 12\n",
    "def pitch_class(num):\n",
    "  return num % 12"
   ]
  },
  {
   "cell_type": "markdown",
   "metadata": {},
   "source": [
    "## Interval Class (between two simultaneous notes)"
   ]
  },
  {
   "cell_type": "code",
   "execution_count": 43,
   "metadata": {
    "tags": []
   },
   "outputs": [
    {
     "name": "stdout",
     "output_type": "stream",
     "text": [
      "imperfect\n",
      "7\n",
      "7\n",
      "perfect\n"
     ]
    }
   ],
   "source": [
    "def interval_class(num1, num2):\n",
    "    interval = abs(num2 - num1) % 12\n",
    "    return interval\n",
    "\n",
    "consonance = {\n",
    "    'perfect': [0, 5, 7],\n",
    "    'imperfect': [3, 4, 8, 9]\n",
    "}\n",
    "\n",
    "dissonance = [1, 2, 6, 10, 11]\n",
    "\n",
    "def is_consonant(num1, num2):\n",
    "    interval = interval_class(num1, num2)\n",
    "    if interval in consonance['perfect'] and interval != 5:\n",
    "        return 'perfect'\n",
    "    elif interval in consonance['imperfect']:\n",
    "        return 'imperfect'\n",
    "    else:\n",
    "        return False\n",
    "\n",
    "print(is_consonant(2, 11))\n",
    "print(interval_class(0, 7))\n",
    "print(interval_class(7, 0))\n",
    "print(is_consonant(7, 26))"
   ]
  },
  {
   "cell_type": "markdown",
   "metadata": {},
   "source": [
    "#### Motion Types (from the transition from two simultaneous notes to two other simultaneous notes)\n",
    "- Parallel: 2\n",
    "- Direct: 1\n",
    "- Oblique: 0\n",
    "- Contrary: -1"
   ]
  },
  {
   "cell_type": "code",
   "execution_count": null,
   "metadata": {},
   "outputs": [],
   "source": [
    "def motion(prev1, next1, prev2, next2):\n",
    "    interval1 = interval_class(prev1, next1)\n",
    "    interval2 = interval_class(prev2, next2)\n",
    "    if interval1 == interval2:\n",
    "        return 2\n",
    "    motion_value = interval1 * interval2 / abs(interval1 * interval2)\n",
    "    return motion_value\n",
    "\n",
    "\n",
    "def is_direct_perfect(prev1, next1, prev2, next2):\n",
    "    next_interval = interval_class(next1, next2)\n",
    "    is_direct = motion(prev1, next1, prev2, next2) > 0\n",
    "    is_perfect = consonance[\"perfect\"].__contains__(next_interval)\n",
    "    return is_direct and is_perfect\n",
    "\n",
    "\n",
    "\"\"\"\n",
    "def is_parallel_perfect(prev1, next1, prev2, next2):\n",
    "    int1 = int(prev1, prev2)\n",
    "    is_perfect = consonance[\"perfect\"].__contains__(int1)\n",
    "    if is_perfect:\n",
    "        motion_value = motion(prev1, next1, prev2, next2)\n",
    "        return motion_value == 2\n",
    "    else:\n",
    "        return False\n",
    "\"\"\""
   ]
  }
 ],
 "metadata": {
  "kernelspec": {
   "display_name": "Python 3 (ipykernel)",
   "language": "python",
   "name": "python3"
  },
  "language_info": {
   "codemirror_mode": {
    "name": "ipython",
    "version": 3
   },
   "file_extension": ".py",
   "mimetype": "text/x-python",
   "name": "python",
   "nbconvert_exporter": "python",
   "pygments_lexer": "ipython3",
   "version": "3.11.5"
  }
 },
 "nbformat": 4,
 "nbformat_minor": 4
}
