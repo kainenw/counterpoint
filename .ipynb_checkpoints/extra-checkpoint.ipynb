{
 "cells": [
  {
   "cell_type": "code",
   "execution_count": 1,
   "metadata": {},
   "outputs": [],
   "source": [
    "# return what kind of motion is occuring between two notes\n",
    "def motionType(prevNote1,nextNote1, prevNote2,nextNote2):\n",
    "  direction1 = direction(prevNote1, nextNote1)\n",
    "  direction2 = direction(prevNote2, nextNote2)\n",
    "  type = None\n",
    "  direction = direction1\n",
    "  if(not direction1 and not direction2):\n",
    "    return False\n",
    "  elif(direction1 == 0 or direction2 == 0):\n",
    "    type = \"oblique\"\n",
    "    direction = direction1 + direction2\n",
    "  elif(direction1 == direction2):\n",
    "    type = \"parallel\"\n",
    "  elif(direction1 == direction2):\n",
    "    type = \"direct\"\n",
    "  #label inward motion -1 and outward 1\n",
    "  elif(direction1 != direction2):\n",
    "    type = \"contrary\",\n",
    "  return {\n",
    "    \"type\": type,\n",
    "    \"direction\": direction\n",
    "  }"
   ]
  },
  {
   "cell_type": "code",
   "execution_count": 3,
   "metadata": {},
   "outputs": [
    {
     "ename": "ModuleNotFoundError",
     "evalue": "No module named 'numpy'",
     "output_type": "error",
     "traceback": [
      "\u001b[0;31m---------------------------------------------------------------------------\u001b[0m",
      "\u001b[0;31mModuleNotFoundError\u001b[0m                       Traceback (most recent call last)",
      "Cell \u001b[0;32mIn[3], line 1\u001b[0m\n\u001b[0;32m----> 1\u001b[0m \u001b[38;5;28;01mfrom\u001b[39;00m \u001b[38;5;21;01msynthesizer\u001b[39;00m \u001b[38;5;28;01mimport\u001b[39;00m Player, Synthesizer, Waveform\n\u001b[1;32m      3\u001b[0m \u001b[38;5;28;01mfrom\u001b[39;00m \u001b[38;5;21;01mTET\u001b[39;00m \u001b[38;5;28;01mimport\u001b[39;00m getFreq, play2\n\u001b[1;32m      5\u001b[0m player \u001b[38;5;241m=\u001b[39m Player()\n",
      "File \u001b[0;32m~/Documents/GitHub/contrapunkt/synthesizer/__init__.py:1\u001b[0m\n\u001b[0;32m----> 1\u001b[0m \u001b[38;5;28;01mfrom\u001b[39;00m \u001b[38;5;21;01m.\u001b[39;00m\u001b[38;5;21;01mplayer\u001b[39;00m \u001b[38;5;28;01mimport\u001b[39;00m Player\n\u001b[1;32m      2\u001b[0m \u001b[38;5;28;01mfrom\u001b[39;00m \u001b[38;5;21;01m.\u001b[39;00m\u001b[38;5;21;01msynthesizer\u001b[39;00m \u001b[38;5;28;01mimport\u001b[39;00m Oscillator, Synthesizer, Waveform\n\u001b[1;32m      3\u001b[0m \u001b[38;5;28;01mfrom\u001b[39;00m \u001b[38;5;21;01m.\u001b[39;00m\u001b[38;5;21;01mwriter\u001b[39;00m \u001b[38;5;28;01mimport\u001b[39;00m Writer\n",
      "File \u001b[0;32m~/Documents/GitHub/contrapunkt/synthesizer/player.py:3\u001b[0m\n\u001b[1;32m      1\u001b[0m \u001b[38;5;66;03m# -*- coding: utf-8 -*-\u001b[39;00m\n\u001b[0;32m----> 3\u001b[0m \u001b[38;5;28;01mimport\u001b[39;00m \u001b[38;5;21;01mnumpy\u001b[39;00m \u001b[38;5;28;01mas\u001b[39;00m \u001b[38;5;21;01mnp\u001b[39;00m\n\u001b[1;32m      6\u001b[0m \u001b[38;5;28;01mclass\u001b[39;00m \u001b[38;5;21;01mPlayer\u001b[39;00m(\u001b[38;5;28mobject\u001b[39m):\n\u001b[1;32m      8\u001b[0m     \u001b[38;5;28;01mdef\u001b[39;00m \u001b[38;5;21m__init__\u001b[39m(\u001b[38;5;28mself\u001b[39m, rate\u001b[38;5;241m=\u001b[39m\u001b[38;5;241m44100\u001b[39m):\n",
      "\u001b[0;31mModuleNotFoundError\u001b[0m: No module named 'numpy'"
     ]
    }
   ],
   "source": [
    "from synthesizer import Player, Synthesizer, Waveform\n",
    "\n",
    "from TET import getFreq, play2\n",
    "\n",
    "player = Player()\n",
    "player.open_stream()\n",
    "synthesizer = Synthesizer(osc1_waveform=Waveform.sine, osc1_volume=1.0, use_osc2=False)\n",
    "\n",
    "# You can also specify frequencies to play just intonation\n",
    "\n",
    "def play2(note1, note2):\n",
    "  freq1 = getFreq(57 + note1)\n",
    "  freq2 = getFreq(57 + note2)\n",
    "  player.play_wave(synthesizer.generate_chord([freq1, freq2], 0.5))\n",
    "\n",
    "play2(0, 7)"
   ]
  },
  {
   "cell_type": "code",
   "execution_count": null,
   "metadata": {},
   "outputs": [],
   "source": []
  }
 ],
 "metadata": {
  "kernelspec": {
   "display_name": "Python 3 (ipykernel)",
   "language": "python",
   "name": "python3"
  },
  "language_info": {
   "codemirror_mode": {
    "name": "ipython",
    "version": 3
   },
   "file_extension": ".py",
   "mimetype": "text/x-python",
   "name": "python",
   "nbconvert_exporter": "python",
   "pygments_lexer": "ipython3",
   "version": "3.8.16"
  },
  "vscode": {
   "interpreter": {
    "hash": "b51894c21c6310f6a97133478b4e90aab47e29fb8bc43fca5989366603090545"
   }
  }
 },
 "nbformat": 4,
 "nbformat_minor": 2
}
