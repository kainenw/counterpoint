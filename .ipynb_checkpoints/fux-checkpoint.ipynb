{
  "cells": [
    {
      "cell_type": "markdown",
      "metadata": {},
      "source": [
        "## Helper Functions\n"
      ]
    },
    {
      "cell_type": "code",
      "execution_count": 1,
      "metadata": {},
      "outputs": [],
      "source": [
        "import random \n",
        "\n",
        "def pickRandom(range):\n",
        "  firstpart = random.random() * range\n",
        "  return firstpart.__floor__()"
      ]
    },
    {
      "cell_type": "code",
      "execution_count": 2,
      "metadata": {},
      "outputs": [
        {
          "name": "stdout",
          "output_type": "stream",
          "text": [
            "[0, 2, 4, 5, 7, 9, 11]\n"
          ]
        }
      ],
      "source": [
        "scales = {\n",
        "  \"dia\": {\n",
        "    \"i\": [0,2,4,5,7,9,11],\n",
        "    \"d\": [0,2,3,5,7,9,10],\n",
        "    \"p\": [0,1,3,5,7,8,10],\n",
        "    \"ly\": [0,2,4,6,7,9,11],\n",
        "    \"m\": [0,2,4,5,7,9,10],\n",
        "    \"a\": [0,2,3,5,7,8,10]\n",
        "  },\n",
        "  \"pent\": {\n",
        "    \"0\": [0,2,4,6,8,10],\n",
        "    \"1\": [1,3,5,7,9,11]\n",
        "  },\n",
        "  \"oct\": {\n",
        "    \"0,1\": [0,1,3,4,6,7,9,10],\n",
        "    \"0,2\": [0,2,3,5,6,8,9,11],\n",
        "    \"1,2\": [1,2,4,5,7,8,10,11]\n",
        "  }\n",
        "}\n",
        "\n",
        "print(scales[\"dia\"][\"i\"])"
      ]
    },
    {
      "cell_type": "markdown",
      "metadata": {},
      "source": [
        "## Intervals\n",
        "  ### Interval Categories"
      ]
    },
    {
      "cell_type": "code",
      "execution_count": 3,
      "metadata": {},
      "outputs": [],
      "source": [
        "# intervals\n",
        "consonances = {0, 3, 4, 7, 8, 9}\n",
        "perfect = [0, 5, 7, 12]\n",
        "imperfect = [3, 4, 8, 9]\n",
        "dissonances = {1, 2, 5, 6, 10, 11}"
      ]
    },
    {
      "cell_type": "markdown",
      "metadata": {},
      "source": [
        "### Interval Id Functions"
      ]
    },
    {
      "cell_type": "code",
      "execution_count": 4,
      "metadata": {},
      "outputs": [],
      "source": [
        "def intervalOf(num1, num2):\n",
        "  return num1 - num2\n",
        "\n",
        "def mod12(num1, num2):\n",
        "  interval = intervalOf(num1, num2)\n",
        "  return abs(interval)\n",
        "\n",
        "# output: 1 is up, -1 is down, and 0 is same\n",
        "def direction(prevNote, nextNote):\n",
        "  if(prevNote < nextNote):\n",
        "    return 1\n",
        "  elif(prevNote > nextNote):\n",
        "    return -1\n",
        "  elif(prevNote == nextNote):\n",
        "    return 0\n",
        "\n",
        "# return what kind of motion is occuring between two notes\n",
        "def isDirectPerfect(prevNote1,nextNote1, prevNote2,nextNote2):\n",
        "  direction1 = direction(prevNote1, nextNote1)\n",
        "  direction2 = direction(prevNote2, nextNote2)\n",
        "  interval1 = intervalOf(prevNote1, prevNote2)\n",
        "  interval2 = intervalOf(nextNote1, nextNote2)\n",
        "  hasDirection = abs(direction1)\n",
        "  isPerfect = [0,5,7].__contains__(abs(interval2))\n",
        "  sameDirection = direction1 == direction2\n",
        "  isDirect = interval1 == interval2 and sameDirection\n",
        "  isParallelPerfect = hasDirection and isPerfect and sameDirection and isDirect\n",
        "  \"\"\" print(\"has direction: \" + str(hasDirection == True) + \"\\n is perfect: \" + str(isPerfect) + \"\\n same direction: \" + str(sameDirection) + \"\\n is direct: \" + str(isDirect)) \"\"\"\n",
        "  return isParallelPerfect\n",
        "\n",
        "def isConsonant(num1, num2):\n",
        "  mod = mod12(num1, num2)\n",
        "  return consonances.__contains__(mod)"
      ]
    },
    {
      "cell_type": "code",
      "execution_count": null,
      "metadata": {},
      "outputs": [],
      "source": []
    },
    {
      "cell_type": "code",
      "execution_count": 5,
      "metadata": {},
      "outputs": [
        {
          "ename": "AttributeError",
          "evalue": "'float' object has no attribute '__floor__'",
          "output_type": "error",
          "traceback": [
            "\u001b[0;31m---------------------------------------------------------------------------\u001b[0m",
            "\u001b[0;31mAttributeError\u001b[0m                            Traceback (most recent call last)",
            "Cell \u001b[0;32mIn[5], line 19\u001b[0m\n\u001b[1;32m     16\u001b[0m           \u001b[38;5;28;01mif\u001b[39;00m(\u001b[38;5;129;01mnot\u001b[39;00m isDirectPerf):\n\u001b[1;32m     17\u001b[0m             \u001b[38;5;28;01mreturn\u001b[39;00m nextCtp\n\u001b[0;32m---> 19\u001b[0m \u001b[38;5;28mprint\u001b[39m(\u001b[43mgetClosestNote\u001b[49m\u001b[43m(\u001b[49m\u001b[38;5;241;43m4\u001b[39;49m\u001b[43m,\u001b[49m\u001b[38;5;241;43m2\u001b[39;49m\u001b[43m,\u001b[49m\u001b[38;5;241;43m7\u001b[39;49m\u001b[43m)\u001b[49m)\n",
            "Cell \u001b[0;32mIn[5], line 4\u001b[0m, in \u001b[0;36mgetClosestNote\u001b[0;34m(prevCf, nextCf, prevCtp)\u001b[0m\n\u001b[1;32m      2\u001b[0m ctpIsAbove \u001b[38;5;241m=\u001b[39m prevCf \u001b[38;5;241m<\u001b[39m prevCtp\n\u001b[1;32m      3\u001b[0m \u001b[38;5;28;01mfor\u001b[39;00m i \u001b[38;5;129;01min\u001b[39;00m \u001b[38;5;28mrange\u001b[39m(\u001b[38;5;241m0\u001b[39m,\u001b[38;5;241m12\u001b[39m):\n\u001b[0;32m----> 4\u001b[0m   upFirst \u001b[38;5;241m=\u001b[39m \u001b[43mpickRandom\u001b[49m\u001b[43m(\u001b[49m\u001b[38;5;241;43m2\u001b[39;49m\u001b[43m)\u001b[49m\n\u001b[1;32m      5\u001b[0m   up \u001b[38;5;241m=\u001b[39m prevCtp \u001b[38;5;241m+\u001b[39m i\n\u001b[1;32m      6\u001b[0m   down \u001b[38;5;241m=\u001b[39m prevCtp \u001b[38;5;241m-\u001b[39m i\n",
            "Cell \u001b[0;32mIn[1], line 5\u001b[0m, in \u001b[0;36mpickRandom\u001b[0;34m(range)\u001b[0m\n\u001b[1;32m      3\u001b[0m \u001b[38;5;28;01mdef\u001b[39;00m \u001b[38;5;21mpickRandom\u001b[39m(\u001b[38;5;28mrange\u001b[39m):\n\u001b[1;32m      4\u001b[0m   firstpart \u001b[38;5;241m=\u001b[39m random\u001b[38;5;241m.\u001b[39mrandom() \u001b[38;5;241m*\u001b[39m \u001b[38;5;28mrange\u001b[39m\n\u001b[0;32m----> 5\u001b[0m   \u001b[38;5;28;01mreturn\u001b[39;00m \u001b[43mfirstpart\u001b[49m\u001b[38;5;241;43m.\u001b[39;49m\u001b[43m__floor__\u001b[49m()\n",
            "\u001b[0;31mAttributeError\u001b[0m: 'float' object has no attribute '__floor__'"
          ]
        }
      ],
      "source": [
        "def getClosestNote(prevCf, nextCf, prevCtp):\n",
        "  ctpIsAbove = prevCf < prevCtp\n",
        "  for i in range(0,12):\n",
        "    upFirst = pickRandom(2)\n",
        "    up = prevCtp + i\n",
        "    down = prevCtp - i\n",
        "    first = up if upFirst else down\n",
        "    second = down if upFirst else up\n",
        "    possibleCtpNotes = [first, second]\n",
        "    for nextCtp in possibleCtpNotes:\n",
        "      notCrossing = nextCtp > nextCf if ctpIsAbove else nextCtp < nextCf\n",
        "      if(notCrossing):\n",
        "        isDirectPerf = isDirectPerfect(prevCf, nextCf, prevCtp, nextCtp)\n",
        "        isCons = isConsonant(nextCf, nextCtp)\n",
        "        if(isCons):\n",
        "          if(not isDirectPerf):\n",
        "            return nextCtp\n",
        "\n",
        "print(getClosestNote(4,2,7))"
      ]
    },
    {
      "cell_type": "code",
      "execution_count": null,
      "metadata": {},
      "outputs": [],
      "source": []
    },
    {
      "cell_type": "code",
      "execution_count": 6,
      "metadata": {},
      "outputs": [],
      "source": [
        "#imput melody, output counter melody above\n",
        "def writeHigherLine(melody):\n",
        "  counterMelody = []\n",
        "  prevCf = None\n",
        "  prevCtp = None\n",
        "  for nextCf in melody:\n",
        "    if(not prevCtp):\n",
        "      \n",
        "      counterMelody.append(nextCf + 12)\n",
        "      prevCtp = nextCf + 12\n",
        "      prevCf = nextCf\n",
        "    else:\n",
        "      nextCtp = getClosestNote(prevCf, nextCf, prevCtp)\n",
        "      counterMelody.append(nextCtp)\n",
        "      prevCf = nextCf\n",
        "      prevCtp = nextCtp\n",
        "\n",
        "  return counterMelody"
      ]
    },
    {
      "cell_type": "code",
      "execution_count": 7,
      "metadata": {},
      "outputs": [
        {
          "ename": "AttributeError",
          "evalue": "'float' object has no attribute '__floor__'",
          "output_type": "error",
          "traceback": [
            "\u001b[0;31m---------------------------------------------------------------------------\u001b[0m",
            "\u001b[0;31mAttributeError\u001b[0m                            Traceback (most recent call last)",
            "Cell \u001b[0;32mIn[7], line 11\u001b[0m\n\u001b[1;32m      1\u001b[0m testLowerCf \u001b[38;5;241m=\u001b[39m {\n\u001b[1;32m      2\u001b[0m   \u001b[38;5;124m\"\u001b[39m\u001b[38;5;124ma\u001b[39m\u001b[38;5;124m\"\u001b[39m: [\u001b[38;5;241m0\u001b[39m, \u001b[38;5;241m4\u001b[39m, \u001b[38;5;241m9\u001b[39m, \u001b[38;5;241m5\u001b[39m, \u001b[38;5;241m7\u001b[39m, \u001b[38;5;241m0\u001b[39m],\n\u001b[1;32m      3\u001b[0m   \u001b[38;5;124m\"\u001b[39m\u001b[38;5;124mb\u001b[39m\u001b[38;5;124m\"\u001b[39m: [\u001b[38;5;241m0\u001b[39m, \u001b[38;5;241m2\u001b[39m, \u001b[38;5;241m5\u001b[39m, \u001b[38;5;241m4\u001b[39m, \u001b[38;5;241m0\u001b[39m, \u001b[38;5;241m2\u001b[39m, \u001b[38;5;241m7\u001b[39m, \u001b[38;5;241m5\u001b[39m, \u001b[38;5;241m0\u001b[39m],\n\u001b[0;32m   (...)\u001b[0m\n\u001b[1;32m      7\u001b[0m   \u001b[38;5;124m\"\u001b[39m\u001b[38;5;124mf\u001b[39m\u001b[38;5;124m\"\u001b[39m: [\u001b[38;5;241m0\u001b[39m, \u001b[38;5;241m2\u001b[39m, \u001b[38;5;241m7\u001b[39m, \u001b[38;5;241m5\u001b[39m, \u001b[38;5;241m7\u001b[39m, \u001b[38;5;241m11\u001b[39m, \u001b[38;5;241m9\u001b[39m, \u001b[38;5;241m4\u001b[39m, \u001b[38;5;241m5\u001b[39m, \u001b[38;5;241m2\u001b[39m, \u001b[38;5;241m4\u001b[39m, \u001b[38;5;241m5\u001b[39m, \u001b[38;5;241m5\u001b[39m, \u001b[38;5;241m2\u001b[39m, \u001b[38;5;241m4\u001b[39m, \u001b[38;5;241m0\u001b[39m],\n\u001b[1;32m      8\u001b[0m }\n\u001b[1;32m     10\u001b[0m \u001b[38;5;28;01mfor\u001b[39;00m line \u001b[38;5;129;01min\u001b[39;00m testLowerCf:\n\u001b[0;32m---> 11\u001b[0m   \u001b[38;5;28mprint\u001b[39m(\u001b[43mwriteHigherLine\u001b[49m\u001b[43m(\u001b[49m\u001b[43mtestLowerCf\u001b[49m\u001b[43m[\u001b[49m\u001b[43mline\u001b[49m\u001b[43m]\u001b[49m\u001b[43m)\u001b[49m)\n\u001b[1;32m     12\u001b[0m   \u001b[38;5;28mprint\u001b[39m(testLowerCf[line])\n\u001b[1;32m     13\u001b[0m   \u001b[38;5;28mprint\u001b[39m(\u001b[38;5;124m\"\u001b[39m\u001b[38;5;124m|\u001b[39m\u001b[38;5;124m\"\u001b[39m)\n",
            "Cell \u001b[0;32mIn[6], line 13\u001b[0m, in \u001b[0;36mwriteHigherLine\u001b[0;34m(melody)\u001b[0m\n\u001b[1;32m     11\u001b[0m   prevCf \u001b[38;5;241m=\u001b[39m nextCf\n\u001b[1;32m     12\u001b[0m \u001b[38;5;28;01melse\u001b[39;00m:\n\u001b[0;32m---> 13\u001b[0m   nextCtp \u001b[38;5;241m=\u001b[39m \u001b[43mgetClosestNote\u001b[49m\u001b[43m(\u001b[49m\u001b[43mprevCf\u001b[49m\u001b[43m,\u001b[49m\u001b[43m \u001b[49m\u001b[43mnextCf\u001b[49m\u001b[43m,\u001b[49m\u001b[43m \u001b[49m\u001b[43mprevCtp\u001b[49m\u001b[43m)\u001b[49m\n\u001b[1;32m     14\u001b[0m   counterMelody\u001b[38;5;241m.\u001b[39mappend(nextCtp)\n\u001b[1;32m     15\u001b[0m   prevCf \u001b[38;5;241m=\u001b[39m nextCf\n",
            "Cell \u001b[0;32mIn[5], line 4\u001b[0m, in \u001b[0;36mgetClosestNote\u001b[0;34m(prevCf, nextCf, prevCtp)\u001b[0m\n\u001b[1;32m      2\u001b[0m ctpIsAbove \u001b[38;5;241m=\u001b[39m prevCf \u001b[38;5;241m<\u001b[39m prevCtp\n\u001b[1;32m      3\u001b[0m \u001b[38;5;28;01mfor\u001b[39;00m i \u001b[38;5;129;01min\u001b[39;00m \u001b[38;5;28mrange\u001b[39m(\u001b[38;5;241m0\u001b[39m,\u001b[38;5;241m12\u001b[39m):\n\u001b[0;32m----> 4\u001b[0m   upFirst \u001b[38;5;241m=\u001b[39m \u001b[43mpickRandom\u001b[49m\u001b[43m(\u001b[49m\u001b[38;5;241;43m2\u001b[39;49m\u001b[43m)\u001b[49m\n\u001b[1;32m      5\u001b[0m   up \u001b[38;5;241m=\u001b[39m prevCtp \u001b[38;5;241m+\u001b[39m i\n\u001b[1;32m      6\u001b[0m   down \u001b[38;5;241m=\u001b[39m prevCtp \u001b[38;5;241m-\u001b[39m i\n",
            "Cell \u001b[0;32mIn[1], line 5\u001b[0m, in \u001b[0;36mpickRandom\u001b[0;34m(range)\u001b[0m\n\u001b[1;32m      3\u001b[0m \u001b[38;5;28;01mdef\u001b[39;00m \u001b[38;5;21mpickRandom\u001b[39m(\u001b[38;5;28mrange\u001b[39m):\n\u001b[1;32m      4\u001b[0m   firstpart \u001b[38;5;241m=\u001b[39m random\u001b[38;5;241m.\u001b[39mrandom() \u001b[38;5;241m*\u001b[39m \u001b[38;5;28mrange\u001b[39m\n\u001b[0;32m----> 5\u001b[0m   \u001b[38;5;28;01mreturn\u001b[39;00m \u001b[43mfirstpart\u001b[49m\u001b[38;5;241;43m.\u001b[39;49m\u001b[43m__floor__\u001b[49m()\n",
            "\u001b[0;31mAttributeError\u001b[0m: 'float' object has no attribute '__floor__'"
          ]
        }
      ],
      "source": [
        "testLowerCf = {\n",
        "  \"a\": [0, 4, 9, 5, 7, 0],\n",
        "  \"b\": [0, 2, 5, 4, 0, 2, 7, 5, 0],\n",
        "  \"c\": [0, 5, 4, 9, 7, 12, 11, 7, 5, 0, 2, 0],\n",
        "  \"d\": [0, 4, 2, 5, 4, 7, 5, 9, 7, 11, 9, 12, 11, 12],\n",
        "  \"e\": [0, 2, 4, 5, 7, 9, 11, 12, 11, 9, 7, 5, 4, 2, 0],\n",
        "  \"f\": [0, 2, 7, 5, 7, 11, 9, 4, 5, 2, 4, 5, 5, 2, 4, 0],\n",
        "}\n",
        "\n",
        "for line in testLowerCf:\n",
        "  print(writeHigherLine(testLowerCf[line]))\n",
        "  print(testLowerCf[line])\n",
        "  print(\"|\")"
      ]
    },
    {
      "cell_type": "code",
      "execution_count": 8,
      "metadata": {},
      "outputs": [
        {
          "name": "stdout",
          "output_type": "stream",
          "text": [
            "False\n"
          ]
        }
      ],
      "source": [
        "#imput melody, output counter melody below\n",
        "def writeLowerLine(melody):\n",
        "  counterMelody = []\n",
        "  prevCf = None\n",
        "  prevCtp = None\n",
        "  for nextCf in melody:\n",
        "    if(prevCtp == None):\n",
        "      counterMelody.append(nextCf - 12)\n",
        "      prevCtp = nextCf - 12\n",
        "      prevCf = nextCf\n",
        "    else:\n",
        "      nextCtp = getClosestNote(prevCf, nextCf, prevCtp)\n",
        "      counterMelody.append(nextCtp)\n",
        "      prevCf = nextCf\n",
        "      prevCtp = nextCtp\n",
        "  return counterMelody\n",
        "\n",
        "print(0 == None)"
      ]
    },
    {
      "cell_type": "code",
      "execution_count": 9,
      "metadata": {},
      "outputs": [
        {
          "name": "stdout",
          "output_type": "stream",
          "text": [
            "[12, 11, 5, 9, 11, 12]\n"
          ]
        },
        {
          "ename": "AttributeError",
          "evalue": "'float' object has no attribute '__floor__'",
          "output_type": "error",
          "traceback": [
            "\u001b[0;31m---------------------------------------------------------------------------\u001b[0m",
            "\u001b[0;31mAttributeError\u001b[0m                            Traceback (most recent call last)",
            "Cell \u001b[0;32mIn[9], line 15\u001b[0m\n\u001b[1;32m     13\u001b[0m \u001b[38;5;28;01mfor\u001b[39;00m line \u001b[38;5;129;01min\u001b[39;00m testHigherCf:\n\u001b[1;32m     14\u001b[0m   \u001b[38;5;28mprint\u001b[39m(testHigherCf[line])\n\u001b[0;32m---> 15\u001b[0m   \u001b[38;5;28mprint\u001b[39m(\u001b[43mwriteLowerLine\u001b[49m\u001b[43m(\u001b[49m\u001b[43mtestHigherCf\u001b[49m\u001b[43m[\u001b[49m\u001b[43mline\u001b[49m\u001b[43m]\u001b[49m\u001b[43m)\u001b[49m)\n\u001b[1;32m     16\u001b[0m   \u001b[38;5;28mprint\u001b[39m(\u001b[38;5;124m\"\u001b[39m\u001b[38;5;124m|\u001b[39m\u001b[38;5;124m\"\u001b[39m)\n",
            "Cell \u001b[0;32mIn[8], line 12\u001b[0m, in \u001b[0;36mwriteLowerLine\u001b[0;34m(melody)\u001b[0m\n\u001b[1;32m     10\u001b[0m   prevCf \u001b[38;5;241m=\u001b[39m nextCf\n\u001b[1;32m     11\u001b[0m \u001b[38;5;28;01melse\u001b[39;00m:\n\u001b[0;32m---> 12\u001b[0m   nextCtp \u001b[38;5;241m=\u001b[39m \u001b[43mgetClosestNote\u001b[49m\u001b[43m(\u001b[49m\u001b[43mprevCf\u001b[49m\u001b[43m,\u001b[49m\u001b[43m \u001b[49m\u001b[43mnextCf\u001b[49m\u001b[43m,\u001b[49m\u001b[43m \u001b[49m\u001b[43mprevCtp\u001b[49m\u001b[43m)\u001b[49m\n\u001b[1;32m     13\u001b[0m   counterMelody\u001b[38;5;241m.\u001b[39mappend(nextCtp)\n\u001b[1;32m     14\u001b[0m   prevCf \u001b[38;5;241m=\u001b[39m nextCf\n",
            "Cell \u001b[0;32mIn[5], line 4\u001b[0m, in \u001b[0;36mgetClosestNote\u001b[0;34m(prevCf, nextCf, prevCtp)\u001b[0m\n\u001b[1;32m      2\u001b[0m ctpIsAbove \u001b[38;5;241m=\u001b[39m prevCf \u001b[38;5;241m<\u001b[39m prevCtp\n\u001b[1;32m      3\u001b[0m \u001b[38;5;28;01mfor\u001b[39;00m i \u001b[38;5;129;01min\u001b[39;00m \u001b[38;5;28mrange\u001b[39m(\u001b[38;5;241m0\u001b[39m,\u001b[38;5;241m12\u001b[39m):\n\u001b[0;32m----> 4\u001b[0m   upFirst \u001b[38;5;241m=\u001b[39m \u001b[43mpickRandom\u001b[49m\u001b[43m(\u001b[49m\u001b[38;5;241;43m2\u001b[39;49m\u001b[43m)\u001b[49m\n\u001b[1;32m      5\u001b[0m   up \u001b[38;5;241m=\u001b[39m prevCtp \u001b[38;5;241m+\u001b[39m i\n\u001b[1;32m      6\u001b[0m   down \u001b[38;5;241m=\u001b[39m prevCtp \u001b[38;5;241m-\u001b[39m i\n",
            "Cell \u001b[0;32mIn[1], line 5\u001b[0m, in \u001b[0;36mpickRandom\u001b[0;34m(range)\u001b[0m\n\u001b[1;32m      3\u001b[0m \u001b[38;5;28;01mdef\u001b[39;00m \u001b[38;5;21mpickRandom\u001b[39m(\u001b[38;5;28mrange\u001b[39m):\n\u001b[1;32m      4\u001b[0m   firstpart \u001b[38;5;241m=\u001b[39m random\u001b[38;5;241m.\u001b[39mrandom() \u001b[38;5;241m*\u001b[39m \u001b[38;5;28mrange\u001b[39m\n\u001b[0;32m----> 5\u001b[0m   \u001b[38;5;28;01mreturn\u001b[39;00m \u001b[43mfirstpart\u001b[49m\u001b[38;5;241;43m.\u001b[39;49m\u001b[43m__floor__\u001b[49m()\n",
            "\u001b[0;31mAttributeError\u001b[0m: 'float' object has no attribute '__floor__'"
          ]
        }
      ],
      "source": [
        "testHigherCf = {\n",
        "  \"a\": [12, 11, 5, 9, 11, 12],\n",
        "  \"b\": [12, 9, 4, 7, 5, 12],\n",
        "  \"c\": [12, 11, 7, 9, 12, 11, 5, 7, 12],\n",
        "  \"d\": [12, 11, 9, 7, 5, 4, 2, 0],\n",
        "  \"e\": [12, 9, 11, 12, 7, 9, 5, 7, 9, 11, 12],\n",
        "  \"f\": [12, 7, 9, 4, 5, 0, 2, 5, 7, 12, 11, 12],\n",
        "  \"g\": [12, 9, 11, 7, 9, 5, 7, 4, 5, 2, 4, 0, 2, 0],\n",
        "  \"h\": [12, 11, 9, 7, 5, 4, 2, 0, 2, 4, 5, 7, 9, 11, 12],\n",
        "  \"i\": [12, 11, 5, 7, 5, 2, 4, 9, 7, 11, 9, 7, 7, 11, 9, 12],\n",
        "}\n",
        "\n",
        "for line in testHigherCf:\n",
        "  print(testHigherCf[line])\n",
        "  print(writeLowerLine(testHigherCf[line]))\n",
        "  print(\"|\")"
      ]
    },
    {
      "cell_type": "code",
      "execution_count": 10,
      "metadata": {},
      "outputs": [
        {
          "data": {
            "text/plain": [
              "' if(note == 0):\\n      options = [0, 4, 5, 9]\\n    if(note == 2):\\n      options = [2, 4, 9, 11]\\n    if(note == 4):\\n      options = [4, 5, 11, 8]\\n    if(note == 4):\\n      options = [4, 9, 0, 2]\\n    if(note == 5):\\n      options = [5, 9, 0, ] '"
            ]
          },
          "execution_count": 10,
          "metadata": {},
          "output_type": "execute_result"
        }
      ],
      "source": [
        "\"\"\" if(note == 0):\n",
        "      options = [0, 4, 5, 9]\n",
        "    if(note == 2):\n",
        "      options = [2, 4, 9, 11]\n",
        "    if(note == 4):\n",
        "      options = [4, 5, 11, 8]\n",
        "    if(note == 4):\n",
        "      options = [4, 9, 0, 2]\n",
        "    if(note == 5):\n",
        "      options = [5, 9, 0, ] \"\"\""
      ]
    },
    {
      "cell_type": "code",
      "execution_count": null,
      "metadata": {},
      "outputs": [],
      "source": []
    },
    {
      "cell_type": "code",
      "execution_count": null,
      "metadata": {},
      "outputs": [],
      "source": []
    },
    {
      "cell_type": "code",
      "execution_count": null,
      "metadata": {},
      "outputs": [],
      "source": []
    },
    {
      "cell_type": "code",
      "execution_count": null,
      "metadata": {},
      "outputs": [],
      "source": []
    },
    {
      "cell_type": "code",
      "execution_count": null,
      "metadata": {},
      "outputs": [],
      "source": []
    },
    {
      "cell_type": "code",
      "execution_count": null,
      "metadata": {},
      "outputs": [],
      "source": []
    },
    {
      "cell_type": "code",
      "execution_count": null,
      "metadata": {},
      "outputs": [],
      "source": []
    },
    {
      "cell_type": "code",
      "execution_count": null,
      "metadata": {},
      "outputs": [],
      "source": []
    },
    {
      "cell_type": "code",
      "execution_count": null,
      "metadata": {},
      "outputs": [],
      "source": []
    },
    {
      "cell_type": "code",
      "execution_count": null,
      "metadata": {},
      "outputs": [],
      "source": []
    },
    {
      "cell_type": "code",
      "execution_count": null,
      "metadata": {},
      "outputs": [],
      "source": []
    },
    {
      "cell_type": "code",
      "execution_count": null,
      "metadata": {},
      "outputs": [],
      "source": []
    },
    {
      "cell_type": "code",
      "execution_count": null,
      "metadata": {},
      "outputs": [],
      "source": []
    }
  ],
  "metadata": {
    "kernelspec": {
      "display_name": "Python 3 (ipykernel)",
      "language": "python",
      "name": "python3"
    },
    "language_info": {
      "codemirror_mode": {
        "name": "ipython",
        "version": 3
      },
      "file_extension": ".py",
      "mimetype": "text/x-python",
      "name": "python",
      "nbconvert_exporter": "python",
      "pygments_lexer": "ipython3",
      "version": "3.8.16"
    },
    "vscode": {
      "interpreter": {
        "hash": "31f2aee4e71d21fbe5cf8b01ff0e069b9275f58929596ceb00d14d90e3e16cd6"
      }
    }
  },
  "nbformat": 4,
  "nbformat_minor": 2
}