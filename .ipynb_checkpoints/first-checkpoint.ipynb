{
 "cells": [
  {
   "cell_type": "code",
   "execution_count": 1,
   "metadata": {},
   "outputs": [],
   "source": [
    "import graph as g\n",
    "import classes as c"
   ]
  },
  {
   "cell_type": "code",
   "execution_count": 2,
   "metadata": {},
   "outputs": [],
   "source": [
    "# will only work for counterpoints above\n",
    "\n",
    "def find_nodes_and_edges(melody_data):\n",
    "  melody = melody_data['melody']\n",
    "  final_index = len(melody) - 1\n",
    "  \n",
    "  all_possibilities = {}\n",
    "  \n",
    "  nodes = []\n",
    "  final_nodes = []\n",
    "  first_nodes = []\n",
    "  edges = []\n",
    "  \n",
    "  # find all possible nodes\n",
    "  for current_index in range(0, len(melody)):\n",
    "    note = melody[current_index]\n",
    "    current = all_possibilities[current_index] = []\n",
    "    \n",
    "    # get possible counterpoint notes\n",
    "    if current_index == 0:\n",
    "      possible_ctps = [note, note + 12]\n",
    "    elif current_index == final_index:\n",
    "      possible_ctps = [note, note + 12]\n",
    "    else:\n",
    "      possible_ctps = melody_data[str(note)]\n",
    "      \n",
    "    # add nodes for each possible ctp\n",
    "    for ctp in possible_ctps:\n",
    "      label = g.node_label(current_index, note, ctp) # create label: \"index, melody note, ctp note\"\n",
    "      current.append(ctp) # add label to possibilities dictionary\n",
    "      nodes.append(label) # add label to nodes list\n",
    "      if current_index == 0:\n",
    "        first_nodes.append(label)\n",
    "      if current_index == final_index:\n",
    "        final_nodes.append(label)\n",
    "  \n",
    "  # find all possible edges\n",
    "  for key, possibilities in all_possibilities.items():\n",
    "    if key != final_index:\n",
    "      note = melody[key]\n",
    "      index = int(key)\n",
    "      \n",
    "      next_index = index + 1\n",
    "      next_note = melody[next_index]\n",
    "      next_possibilities = all_possibilities[next_index]\n",
    "      \n",
    "      for possibility in possibilities:\n",
    "        label = g.node_label(index, note, possibility)\n",
    "        for next_possibility in next_possibilities:\n",
    "          # check if move is valid, if so add edge\n",
    "          valid = c.isValidMove(note, next_note, possibility, next_possibility)\n",
    "          if valid:\n",
    "            next_label = g.node_label(next_index, next_note, next_possibility)\n",
    "            edge = (label, next_label)\n",
    "            edges.append(edge)\n",
    "  return {'nodes': nodes, 'edges': edges, 'final index': final_index}"
   ]
  },
  {
   "cell_type": "code",
   "execution_count": 3,
   "metadata": {},
   "outputs": [
    {
     "ename": "NetworkXError",
     "evalue": "The node 7:-1,11 is not in the digraph.",
     "output_type": "error",
     "traceback": [
      "\u001b[0;31m---------------------------------------------------------------------------\u001b[0m",
      "\u001b[0;31mKeyError\u001b[0m                                  Traceback (most recent call last)",
      "File \u001b[0;32m/opt/anaconda3/envs/Synth/lib/python3.11/site-packages/networkx/classes/digraph.py:899\u001b[0m, in \u001b[0;36mDiGraph.successors\u001b[0;34m(self, n)\u001b[0m\n\u001b[1;32m    898\u001b[0m \u001b[39mtry\u001b[39;00m:\n\u001b[0;32m--> 899\u001b[0m     \u001b[39mreturn\u001b[39;00m \u001b[39miter\u001b[39m(\u001b[39mself\u001b[39m\u001b[39m.\u001b[39m_succ[n])\n\u001b[1;32m    900\u001b[0m \u001b[39mexcept\u001b[39;00m \u001b[39mKeyError\u001b[39;00m \u001b[39mas\u001b[39;00m err:\n",
      "\u001b[0;31mKeyError\u001b[0m: '7:-1,11'",
      "\nThe above exception was the direct cause of the following exception:\n",
      "\u001b[0;31mNetworkXError\u001b[0m                             Traceback (most recent call last)",
      "Cell \u001b[0;32mIn[3], line 10\u001b[0m\n\u001b[1;32m      7\u001b[0m edges \u001b[39m=\u001b[39m nodes_and_edges[\u001b[39m'\u001b[39m\u001b[39medges\u001b[39m\u001b[39m'\u001b[39m]\n\u001b[1;32m      8\u001b[0m final_index \u001b[39m=\u001b[39m nodes_and_edges[\u001b[39m'\u001b[39m\u001b[39mfinal index\u001b[39m\u001b[39m'\u001b[39m]\n\u001b[0;32m---> 10\u001b[0m graph \u001b[39m=\u001b[39m g\u001b[39m.\u001b[39mmake_network(nodes, edges, final_index)\n\u001b[1;32m     12\u001b[0m g\u001b[39m.\u001b[39mvisualize_graph(graph)\n",
      "File \u001b[0;32m~/Documents/GitHub/counterpoint/graph.py:87\u001b[0m, in \u001b[0;36mmake_network\u001b[0;34m(nodes, edges, final_index, willPrint)\u001b[0m\n\u001b[1;32m     84\u001b[0m graph\u001b[39m.\u001b[39madd_edges_from(edges)\n\u001b[1;32m     86\u001b[0m graph \u001b[39m=\u001b[39m remove_unreachable_nodes(graph)\n\u001b[0;32m---> 87\u001b[0m graph \u001b[39m=\u001b[39m remove_unreaching_nodes(graph,final_index)\n\u001b[1;32m     89\u001b[0m \u001b[39m# display nodes and edges unless otherwise specified\u001b[39;00m\n\u001b[1;32m     90\u001b[0m \u001b[39mif\u001b[39;00m willPrint:\n",
      "File \u001b[0;32m~/Documents/GitHub/counterpoint/graph.py:59\u001b[0m, in \u001b[0;36mremove_unreaching_nodes\u001b[0;34m(graph, final_index)\u001b[0m\n\u001b[1;32m     57\u001b[0m   is_on_path \u001b[39m=\u001b[39m \u001b[39mTrue\u001b[39;00m\n\u001b[1;32m     58\u001b[0m \u001b[39melif\u001b[39;00m \u001b[39mnot\u001b[39;00m is_on_path:\n\u001b[0;32m---> 59\u001b[0m   descendants \u001b[39m=\u001b[39m (nx\u001b[39m.\u001b[39mdescendants(graph, node))\n\u001b[1;32m     60\u001b[0m   \u001b[39mif\u001b[39;00m descendants\u001b[39m.\u001b[39m\u001b[39m__contains__\u001b[39m(final_node):\n\u001b[1;32m     61\u001b[0m     is_on_path \u001b[39m=\u001b[39m \u001b[39mTrue\u001b[39;00m\n",
      "File \u001b[0;32m/opt/anaconda3/envs/Synth/lib/python3.11/site-packages/networkx/classes/backends.py:145\u001b[0m, in \u001b[0;36m_dispatch.<locals>.wrapper\u001b[0;34m(*args, **kwds)\u001b[0m\n\u001b[1;32m    141\u001b[0m         \u001b[39melse\u001b[39;00m:\n\u001b[1;32m    142\u001b[0m             \u001b[39mraise\u001b[39;00m NetworkXNotImplemented(\n\u001b[1;32m    143\u001b[0m                 \u001b[39mf\u001b[39m\u001b[39m\"\u001b[39m\u001b[39m'\u001b[39m\u001b[39m{\u001b[39;00mname\u001b[39m}\u001b[39;00m\u001b[39m'\u001b[39m\u001b[39m not implemented by \u001b[39m\u001b[39m{\u001b[39;00mplugin_name\u001b[39m}\u001b[39;00m\u001b[39m\"\u001b[39m\n\u001b[1;32m    144\u001b[0m             )\n\u001b[0;32m--> 145\u001b[0m \u001b[39mreturn\u001b[39;00m func(\u001b[39m*\u001b[39margs, \u001b[39m*\u001b[39m\u001b[39m*\u001b[39mkwds)\n",
      "File \u001b[0;32m/opt/anaconda3/envs/Synth/lib/python3.11/site-packages/networkx/algorithms/dag.py:73\u001b[0m, in \u001b[0;36mdescendants\u001b[0;34m(G, source)\u001b[0m\n\u001b[1;32m     39\u001b[0m \u001b[39m@nx\u001b[39m\u001b[39m.\u001b[39m_dispatch\n\u001b[1;32m     40\u001b[0m \u001b[39mdef\u001b[39;00m \u001b[39mdescendants\u001b[39m(G, source):\n\u001b[1;32m     41\u001b[0m     \u001b[39m\"\"\"Returns all nodes reachable from `source` in `G`.\u001b[39;00m\n\u001b[1;32m     42\u001b[0m \n\u001b[1;32m     43\u001b[0m \u001b[39m    Parameters\u001b[39;00m\n\u001b[0;32m   (...)\u001b[0m\n\u001b[1;32m     71\u001b[0m \u001b[39m    ancestors\u001b[39;00m\n\u001b[1;32m     72\u001b[0m \u001b[39m    \"\"\"\u001b[39;00m\n\u001b[0;32m---> 73\u001b[0m     \u001b[39mreturn\u001b[39;00m {child \u001b[39mfor\u001b[39;00m parent, child \u001b[39min\u001b[39;00m nx\u001b[39m.\u001b[39mbfs_edges(G, source)}\n",
      "File \u001b[0;32m/opt/anaconda3/envs/Synth/lib/python3.11/site-packages/networkx/algorithms/dag.py:73\u001b[0m, in \u001b[0;36m<setcomp>\u001b[0;34m(.0)\u001b[0m\n\u001b[1;32m     39\u001b[0m \u001b[39m@nx\u001b[39m\u001b[39m.\u001b[39m_dispatch\n\u001b[1;32m     40\u001b[0m \u001b[39mdef\u001b[39;00m \u001b[39mdescendants\u001b[39m(G, source):\n\u001b[1;32m     41\u001b[0m     \u001b[39m\"\"\"Returns all nodes reachable from `source` in `G`.\u001b[39;00m\n\u001b[1;32m     42\u001b[0m \n\u001b[1;32m     43\u001b[0m \u001b[39m    Parameters\u001b[39;00m\n\u001b[0;32m   (...)\u001b[0m\n\u001b[1;32m     71\u001b[0m \u001b[39m    ancestors\u001b[39;00m\n\u001b[1;32m     72\u001b[0m \u001b[39m    \"\"\"\u001b[39;00m\n\u001b[0;32m---> 73\u001b[0m     \u001b[39mreturn\u001b[39;00m {child \u001b[39mfor\u001b[39;00m parent, child \u001b[39min\u001b[39;00m nx\u001b[39m.\u001b[39mbfs_edges(G, source)}\n",
      "File \u001b[0;32m/opt/anaconda3/envs/Synth/lib/python3.11/site-packages/networkx/algorithms/traversal/breadth_first_search.py:170\u001b[0m, in \u001b[0;36mbfs_edges\u001b[0;34m(G, source, reverse, depth_limit, sort_neighbors)\u001b[0m\n\u001b[1;32m    168\u001b[0m \u001b[39melse\u001b[39;00m:\n\u001b[1;32m    169\u001b[0m     successors \u001b[39m=\u001b[39m G\u001b[39m.\u001b[39mneighbors\n\u001b[0;32m--> 170\u001b[0m \u001b[39myield from\u001b[39;00m generic_bfs_edges(G, source, successors, depth_limit, sort_neighbors)\n",
      "File \u001b[0;32m/opt/anaconda3/envs/Synth/lib/python3.11/site-packages/networkx/algorithms/traversal/breadth_first_search.py:77\u001b[0m, in \u001b[0;36mgeneric_bfs_edges\u001b[0;34m(G, source, neighbors, depth_limit, sort_neighbors)\u001b[0m\n\u001b[1;32m     75\u001b[0m \u001b[39mif\u001b[39;00m depth_limit \u001b[39mis\u001b[39;00m \u001b[39mNone\u001b[39;00m:\n\u001b[1;32m     76\u001b[0m     depth_limit \u001b[39m=\u001b[39m \u001b[39mlen\u001b[39m(G)\n\u001b[0;32m---> 77\u001b[0m queue \u001b[39m=\u001b[39m deque([(source, depth_limit, neighbors(source))])\n\u001b[1;32m     78\u001b[0m \u001b[39mwhile\u001b[39;00m queue:\n\u001b[1;32m     79\u001b[0m     parent, depth_now, children \u001b[39m=\u001b[39m queue[\u001b[39m0\u001b[39m]\n",
      "File \u001b[0;32m/opt/anaconda3/envs/Synth/lib/python3.11/site-packages/networkx/classes/digraph.py:901\u001b[0m, in \u001b[0;36mDiGraph.successors\u001b[0;34m(self, n)\u001b[0m\n\u001b[1;32m    899\u001b[0m     \u001b[39mreturn\u001b[39;00m \u001b[39miter\u001b[39m(\u001b[39mself\u001b[39m\u001b[39m.\u001b[39m_succ[n])\n\u001b[1;32m    900\u001b[0m \u001b[39mexcept\u001b[39;00m \u001b[39mKeyError\u001b[39;00m \u001b[39mas\u001b[39;00m err:\n\u001b[0;32m--> 901\u001b[0m     \u001b[39mraise\u001b[39;00m NetworkXError(\u001b[39mf\u001b[39m\u001b[39m\"\u001b[39m\u001b[39mThe node \u001b[39m\u001b[39m{\u001b[39;00mn\u001b[39m}\u001b[39;00m\u001b[39m is not in the digraph.\u001b[39m\u001b[39m\"\u001b[39m) \u001b[39mfrom\u001b[39;00m \u001b[39merr\u001b[39;00m\n",
      "\u001b[0;31mNetworkXError\u001b[0m: The node 7:-1,11 is not in the digraph."
     ]
    }
   ],
   "source": [
    "# get possible ctp notes for each melody note\n",
    "melody_data = c.getAllCombos([0,5,4,9,7,5,4,-1,0], True) # write a python line which calculates a sawtooth wave\n",
    "\n",
    "# get initial list of nodes and edges\n",
    "nodes_and_edges = find_nodes_and_edges(melody_data)\n",
    "nodes = nodes_and_edges['nodes']\n",
    "edges = nodes_and_edges['edges']\n",
    "final_index = nodes_and_edges['final index']\n",
    "\n",
    "graph = g.make_network(nodes, edges, final_index)\n",
    "\n",
    "g.visualize_graph(graph)"
   ]
  }
 ],
 "metadata": {
  "kernelspec": {
   "display_name": "Python 3 (ipykernel)",
   "language": "python",
   "name": "python3"
  },
  "language_info": {
   "codemirror_mode": {
    "name": "ipython",
    "version": 3
   },
   "file_extension": ".py",
   "mimetype": "text/x-python",
   "name": "python",
   "nbconvert_exporter": "python",
   "pygments_lexer": "ipython3",
   "version": "3.9.13"
  }
 },
 "nbformat": 4,
 "nbformat_minor": 2
}
