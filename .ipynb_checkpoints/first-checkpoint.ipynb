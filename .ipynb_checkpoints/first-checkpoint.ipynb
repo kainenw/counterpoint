{
  "cells": [
    {
      "cell_type": "code",
      "execution_count": 27,
      "metadata": {
        "collapsed": true,
        "jupyter": {
          "outputs_hidden": true
        },
        "tags": []
      },
      "outputs": [
        {
          "name": "stdout",
          "output_type": "stream",
          "text": [
            "Requirement already satisfied: numpy in /Users/kainenwhite/anaconda3/lib/python3.11/site-packages (1.24.3)\n",
            "Requirement already satisfied: scipy in /Users/kainenwhite/anaconda3/lib/python3.11/site-packages (1.11.1)\n",
            "Requirement already satisfied: networkx in /Users/kainenwhite/anaconda3/lib/python3.11/site-packages (3.1)\n",
            "Requirement already satisfied: matplotlib in /Users/kainenwhite/anaconda3/lib/python3.11/site-packages (3.7.2)\n",
            "Requirement already satisfied: contourpy>=1.0.1 in /Users/kainenwhite/anaconda3/lib/python3.11/site-packages (from matplotlib) (1.0.5)\n",
            "Requirement already satisfied: cycler>=0.10 in /Users/kainenwhite/anaconda3/lib/python3.11/site-packages (from matplotlib) (0.11.0)\n",
            "Requirement already satisfied: fonttools>=4.22.0 in /Users/kainenwhite/anaconda3/lib/python3.11/site-packages (from matplotlib) (4.25.0)\n",
            "Requirement already satisfied: kiwisolver>=1.0.1 in /Users/kainenwhite/anaconda3/lib/python3.11/site-packages (from matplotlib) (1.4.4)\n",
            "Requirement already satisfied: packaging>=20.0 in /Users/kainenwhite/.local/lib/python3.11/site-packages (from matplotlib) (23.2)\n",
            "Requirement already satisfied: pillow>=6.2.0 in /Users/kainenwhite/anaconda3/lib/python3.11/site-packages (from matplotlib) (10.0.1)\n",
            "Requirement already satisfied: pyparsing<3.1,>=2.3.1 in /Users/kainenwhite/anaconda3/lib/python3.11/site-packages (from matplotlib) (3.0.9)\n",
            "Requirement already satisfied: python-dateutil>=2.7 in /Users/kainenwhite/.local/lib/python3.11/site-packages (from matplotlib) (2.8.2)\n",
            "Requirement already satisfied: six>=1.5 in /Users/kainenwhite/.local/lib/python3.11/site-packages (from python-dateutil>=2.7->matplotlib) (1.16.0)\n",
            "Note: you may need to restart the kernel to use updated packages.\n"
          ]
        }
      ],
      "source": [
        "pip install numpy scipy networkx matplotlib"
      ]
    },
    {
      "cell_type": "code",
      "execution_count": 29,
      "metadata": {
        "collapsed": true,
        "jupyter": {
          "outputs_hidden": true
        },
        "tags": []
      },
      "outputs": [
        {
          "ename": "ModuleNotFoundError",
          "evalue": "No module named 'classes'",
          "output_type": "error",
          "traceback": [
            "\u001b[0;31m---------------------------------------------------------------------------\u001b[0m",
            "\u001b[0;31mModuleNotFoundError\u001b[0m                       Traceback (most recent call last)",
            "Cell \u001b[0;32mIn[29], line 1\u001b[0m\n\u001b[0;32m----> 1\u001b[0m \u001b[38;5;28;01mfrom\u001b[39;00m \u001b[38;5;21;01mclasses\u001b[39;00m \u001b[38;5;28;01mimport\u001b[39;00m isConsonant, isDirectPerfect\n\u001b[1;32m      4\u001b[0m \u001b[38;5;28;01mdef\u001b[39;00m \u001b[38;5;21mis_valid_move\u001b[39m(prev1, next1, prev2, next2):\n\u001b[1;32m      5\u001b[0m     is_cons \u001b[38;5;241m=\u001b[39m isConsonant(next1, next2)\n",
            "\u001b[0;31mModuleNotFoundError\u001b[0m: No module named 'classes'"
          ]
        }
      ],
      "source": [
        "from classes import isConsonant, isDirectPerfect\n",
        "\n",
        "\n",
        "def is_valid_move(prev1, next1, prev2, next2):\n",
        "    is_cons = isConsonant(next1, next2)\n",
        "    if is_cons:\n",
        "        is_dir_perf = isDirectPerfect(prev1, next1, prev2, next2)\n",
        "        if not is_dir_perf:\n",
        "            is_in_range = prev2 - 8 <= next2 <= prev2 + 8\n",
        "            if is_in_range:\n",
        "                return True\n",
        "    return False\n",
        "\n",
        "\n",
        "print(is_valid_move(0, 2, 12, 11))"
      ]
    },
    {
      "cell_type": "markdown",
      "metadata": {
        "tags": []
      },
      "source": [
        "mini-test"
      ]
    },
    {
      "cell_type": "code",
      "execution_count": 6,
      "metadata": {
        "tags": []
      },
      "outputs": [
        {
          "name": "stdout",
          "output_type": "stream",
          "text": [
            "{'melody': [0, 2, 4, 5, 7, 9, 11, 12], 'mode': [0, 2, 4, 5, 7, 9, 11], 'intervalToNext': [2, 2, 1, 2, 2, 2, 1], 'ctpIsAbove': True, '0': [4, 7, 9, 12, 16, 19], '2': [5, 9, 11, 14, 21], '4': [7, 11, 12, 16, 23], '5': [9, 12, 14, 17, 21, 24], '7': [11, 14, 16, 19, 23, 26], '9': [12, 16, 17, 21, 28], '11': [14, 19, 23], '12': [16, 19, 21, 24, 28, 31]}\n"
          ]
        }
      ],
      "source": [
        "import classes\n",
        "import scales\n",
        "\n",
        "def get_all_combos(melody, ctpIsAbove):\n",
        "    mode = scales.detect_mode(melody)\n",
        "    combos = {\n",
        "        \"melody\": melody,\n",
        "        \"mode\": mode,\n",
        "        \"intervalToNext\": [],\n",
        "        \"ctpIsAbove\": ctpIsAbove,\n",
        "    }\n",
        "    prevNote = None\n",
        "    intervals = [3, 4, 7, 8, 9, 12, 16, 19]\n",
        "    for note in melody:\n",
        "        possibleNotes = []\n",
        "        for interval in intervals:\n",
        "            if ctpIsAbove:\n",
        "                possibleNote = note + interval\n",
        "            else:\n",
        "                possibleNote = note - interval\n",
        "            if scales.is_in_gamut(possibleNote, mode):\n",
        "                possibleNotes.append(possibleNote)\n",
        "        if prevNote != None:\n",
        "            combos[\"intervalToNext\"].append(note - prevNote)\n",
        "        combos[str(note)] = possibleNotes\n",
        "        prevNote = note\n",
        "    return combos\n",
        "  \n",
        "print(get_all_combos([0, 2, 4, 5, 7, 9, 11, 12], True))"
      ]
    },
    {
      "cell_type": "code",
      "execution_count": 4,
      "metadata": {},
      "outputs": [],
      "source": [
        "import random\n",
        "\n",
        "\n",
        "def random_melody(length, mode):\n",
        "    melody = []\n",
        "    for i in range(length):\n",
        "        melody.append(random.choice(mode))\n",
        "    return melody\n",
        "\n",
        "# todo: see trello\n",
        "def justifiableLeap(graph, edge):\n",
        "    outNode = edge[0]\n",
        "    inNode = edge[1]"
      ]
    },
    {
      "cell_type": "markdown",
      "metadata": {},
      "source": [
        "def findCounterpoint(melody):\n",
        "  counterpoint = []\n",
        "  # Your code to generate the counterpoint line goes here\n",
        "  return counterpoint\n"
      ]
    }
  ],
  "metadata": {
    "kernelspec": {
      "display_name": "Python 3 (ipykernel)",
      "language": "python",
      "name": "python3"
    },
    "language_info": {
      "codemirror_mode": {
        "name": "ipython",
        "version": 3
      },
      "file_extension": ".py",
      "mimetype": "text/x-python",
      "name": "python",
      "nbconvert_exporter": "python",
      "pygments_lexer": "ipython3",
      "version": "3.11.5"
    }
  },
  "nbformat": 4,
  "nbformat_minor": 4
}