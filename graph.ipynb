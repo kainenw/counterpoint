{
 "cells": [
  {
   "cell_type": "code",
   "execution_count": 275,
   "metadata": {},
   "outputs": [],
   "source": [
    "import matplotlib.pyplot as plt\n",
    "import networkx as nx\n",
    "import classes as c"
   ]
  },
  {
   "cell_type": "code",
   "execution_count": 276,
   "metadata": {},
   "outputs": [],
   "source": [
    "def node_label(position, cf, ctp):\n",
    "  return str(position) + '-' + str(cf) + ',' + str(ctp)"
   ]
  },
  {
   "attachments": {},
   "cell_type": "markdown",
   "metadata": {},
   "source": [
    "## Pruning Functons"
   ]
  },
  {
   "cell_type": "code",
   "execution_count": 277,
   "metadata": {},
   "outputs": [],
   "source": [
    "# TODO make function to process every node and edge for each index\n",
    "\n",
    "# TODO comnime this with the funcction to find nodes and edges\n",
    "\n",
    "def addNodeAndEdge(G, melodyData, prevIndex, posOverride = False):\n",
    "  melody = melodyData[\"melody\"]\n",
    "  finalIndex = len(melody) - 1\n",
    "  nextIndex = prevIndex + 1\n",
    "  \n",
    "  melody = melodyData['melody']\n",
    "  prev1 = melody[prevIndex]\n",
    "  \n",
    "  if prevIndex != finalIndex:\n",
    "    next1 = melody[nextIndex]\n",
    "    next2s = melodyData[str(next1)]\n",
    "    if posOverride:\n",
    "      prev2s = posOverride\n",
    "    else:\n",
    "      prev2s = melodyData[str(next1)]\n",
    "  elif(prevIndex == finalIndex):\n",
    "    prev2s = posOverride\n",
    "  else:\n",
    "    next1 = None\n",
    "    next2 = None\n",
    "    prev2s = []\n",
    "    next2s = []\n",
    "  print(\"prev2s\", prev2s)\n",
    "  for prev2 in prev2s:\n",
    "    prevStr = node_label(prevIndex, prev1, prev2)\n",
    "    \"\"\" print(prevStr) \"\"\"\n",
    "    validMoves = []\n",
    "    if(prevIndex < finalIndex):\n",
    "      for next2 in next2s:\n",
    "        if(c.isValidMove(prev1, next1, prev2, next2)):\n",
    "          validMoves.append(next2)\n",
    "      G.add_node(prevStr)\n",
    "      for next2 in validMoves:\n",
    "        nextStr = node_label(nextIndex, next1, next2)\n",
    "        G.add_edge(prevStr, nextStr)"
   ]
  },
  {
   "cell_type": "code",
   "execution_count": 278,
   "metadata": {},
   "outputs": [],
   "source": [
    "\n",
    "# remove nodes with no edges\n",
    "def removeIsolates(G):\n",
    "  isolates = list(nx.isolates(G))\n",
    "  G.remove_nodes_from(isolates)\n",
    "\n",
    "# TODO make the function find path to actual final node(s), not just the last node that exists\n",
    "# TODO find out what makes this function too strong for purpose -- removes too many nodes\n",
    "# TODO make the functions edit the nodes and edges arrays rather than changing the graph directly\n",
    "def xTheNode(G, finalNote, finalIndex, finalNodes):\n",
    "  strings = []\n",
    "  remove = []\n",
    "  for item in finalNodes:\n",
    "    string = node_label(finalIndex, finalNote, item)\n",
    "    strings.append(string)\n",
    "    for node in G.nodes:\n",
    "      for item in strings:\n",
    "        if G.has_node(item):\n",
    "          isPath = nx.has_path(G, str(node), str(item))\n",
    "          \"\"\" print(\"node: \" + node + \" final: \" + item) \"\"\"\n",
    "          if(not strings.__contains__(node)):\n",
    "            if not isPath:\n",
    "              remove.append(node)\n",
    "              \"\"\"  print(str(node) + ' failed') \"\"\"\n",
    "          else:\n",
    "            print(str(node))\n",
    "  for node in remove:\n",
    "    G.remove_node(node)\n",
    "\n",
    "def pruneLeaves(G, finalIndex):\n",
    "  # pseudo code\n",
    "  # get degrees for all nodes\n",
    "  degrees = G.degree\n",
    "  remove = [node for node,degree in dict(G.degree()).items() if degree < 2]\n",
    "  for node in remove:\n",
    "    # isolate index\n",
    "    index = node.split(\"-\")[0]\n",
    "    #if string[0] is not the final index\n",
    "    if(int(index) < finalIndex):\n",
    "      # if string[0] is not 0\n",
    "      if(index != 0):\n",
    "        # remove all nodes with degree of 1\n",
    "        G.remove_node(node)\n",
    "\n",
    "# add funtion to remove edges not connected to nodes"
   ]
  },
  {
   "cell_type": "code",
   "execution_count": 279,
   "metadata": {},
   "outputs": [],
   "source": [
    "def removeNodes(G, finalNote, finalIndex, finalNodes):\n",
    "  \"\"\" print(finalIndex) \"\"\"\n",
    "  removeIsolates(G)\n",
    "  xTheNode(G, finalNote, finalIndex, finalNodes)\n",
    "  pruneLeaves(G, finalIndex)\n",
    "  # too strong\n",
    "  #add way to remove edges with no nodes"
   ]
  },
  {
   "cell_type": "code",
   "execution_count": 280,
   "metadata": {},
   "outputs": [
    {
     "data": {
      "text/plain": [
       "' def nextMoves(prev1, next1, prev2, posNext2): '"
      ]
     },
     "execution_count": 280,
     "metadata": {},
     "output_type": "execute_result"
    }
   ],
   "source": [
    "# check if moves are valid\n",
    "\"\"\" def nextMoves(prev1, next1, prev2, posNext2): \"\"\""
   ]
  },
  {
   "cell_type": "code",
   "execution_count": 287,
   "metadata": {},
   "outputs": [],
   "source": [
    "# rewrite a to form two arrays: nodes and edges, which will be passed to create_network()\n",
    "\n",
    "def find_nodes_and_edges(melodyData):\n",
    "  melody = melodyData['melody']\n",
    "  curIndex = 0\n",
    "  finalIndex = len(melody) - 1\n",
    "  \n",
    "  nodes = []\n",
    "  \n",
    "  \n",
    "  \n",
    "  edges = []\n",
    "  \n",
    "  \n",
    "  return {'nodes': nodes, 'edges': edges}\n",
    "\n",
    "\"\"\" \n",
    "once finished, pass the following to make_network:\n",
    "\n",
    "nodes, edges = find_nodes_and_edges(melody_data)\n",
    "make_network(nodes, edges)\n",
    "\"\"\" \n",
    "\n",
    "def constructInitialGraph(melodyData):\n",
    "  \n",
    "  melody = melodyData['melody']\n",
    "  G = nx.DiGraph()\n",
    "  \"\"\" nx.draw_spectral(G) \"\"\"\n",
    "  curIndex = 0\n",
    "  finalIndex = len(melody) - 1\n",
    "  \n",
    "  # generate first nodes\n",
    "  note = melody[0]\n",
    "  if melodyData['ctpIsAbove']:\n",
    "    firstPosCtp = {note + 0, note + 4, note +7, note + 12, note + 16, note + 19}\n",
    "    print(0)\n",
    "  else:\n",
    "    firstPosCtp = {note, note - 12}\n",
    "    print(0)\n",
    "  nextMoves = melodyData[str(melody[1])]\n",
    "  addNodeAndEdge(G, melodyData, curIndex, firstPosCtp)\n",
    "  \n",
    "  curIndex += 1\n",
    "  \n",
    "  # TODO generate nodes by 0, 1 then 1, 2 then 2, 3\n",
    "  #generate middle nodes\n",
    "  for i in range(0, finalIndex - 1):\n",
    "    note = melody[i]\n",
    "    \"\"\" print(\" cur: \" + str(curIndex) + \" fin: \" + str(finalIndex)) \"\"\"\n",
    "    nextIndex = curIndex + 1\n",
    "    nextMoves = []\n",
    "    nextMoves = melodyData[str(melody[nextIndex])]\n",
    "    \"\"\" print(nextMoves) \"\"\"\n",
    "    for possCtp in melodyData[str(note)]:\n",
    "      validMoves = []\n",
    "      possString = node_label(curIndex, note, possCtp)\n",
    "      \"\"\" print(possString) \"\"\"\n",
    "      for move in nextMoves:\n",
    "        isValid = c.isValidMove(note, melody[nextIndex], possCtp, move)\n",
    "        if(isValid):\n",
    "          validMoves.append(move)\n",
    "      if validMoves:\n",
    "        \"\"\" print(note, melody[nextIndex], melodyData[str(note)], validMoves) \"\"\"\n",
    "        moveString = node_label(nextIndex, melody[nextIndex], possCtp)\n",
    "        G.add_node(moveString)\n",
    "        for move in validMoves:\n",
    "          G.add_edge(possString, moveString)\n",
    "      else:\n",
    "        if G.has_node(possString):\n",
    "          G.remove_node(possString)\n",
    "    curIndex = nextIndex\n",
    "  \n",
    "  # generate last nodes\n",
    "  note = melody[finalIndex]\n",
    "  if melodyData['ctpIsAbove']:\n",
    "    finalCtp = {note, note + 12}\n",
    "  else:\n",
    "    finalCtp = {note, note - 12}\n",
    "  \n",
    "  addNodeAndEdge(G, melodyData, curIndex, finalCtp)\n",
    "  \"\"\" removeNodes(G, melody[finalIndex], finalIndex, finalCtp)\n",
    "  removeNodes(G, melody[finalIndex], finalIndex, finalCtp) \"\"\"\n",
    "  \n",
    "  return G"
   ]
  },
  {
   "cell_type": "code",
   "execution_count": 283,
   "metadata": {},
   "outputs": [],
   "source": [
    "def visualize(G):\n",
    "  # Set the spring layout with custom node positions\n",
    "  pos = nx.spring_layout(G, seed=42)\n",
    "\n",
    "  #create dictionary of node indexes\n",
    "  pos_nodes = G.nodes\n",
    "  pos_node_x = {}\n",
    "  for node in pos_nodes.items():\n",
    "    node = node[0]\n",
    "    index = node.split(\"-\")[0]\n",
    "    pos_node_x[node] = int(index)\n",
    "    \"\"\" print(pos[node]) \"\"\"\n",
    "\n",
    "  # Set custom x-axis positions for nodes\n",
    "  for node, x in pos_node_x.items():\n",
    "      pos[node][0] = x\n",
    "  \n",
    "  nx.draw(G, pos, with_labels=True, arrows=True)\n",
    "  plt.figure(figsize = (2^16,2^16))"
   ]
  },
  {
   "cell_type": "code",
   "execution_count": 281,
   "metadata": {},
   "outputs": [
    {
     "data": {
      "text/plain": [
       "'\\nFor example, the following code creates a NetworkX graph with three nodes and two edges:\\n\\nnodes = [1, 2, 3]\\nedges = [(1, 2), (2, 3)]\\n\\ngraph = create_network(nodes, edges)\\n\\nprint(graph.nodes) \\n# [1, 2, 3]\\n\\nprint(graph.edges) \\n# [(1, 2), (2, 3)] \\n'"
      ]
     },
     "execution_count": 281,
     "metadata": {},
     "output_type": "execute_result"
    }
   ],
   "source": [
    "import networkx as nx\n",
    "\n",
    "def create_network(nodes, edges, willPrint=True):\n",
    "  \"\"\"\n",
    "  input:\n",
    "    1. nodes array ( form: [1,2,3] )\n",
    "    2. edges array ( form: [(1,2),(2,3)] )\n",
    "  output:\n",
    "    a NetworkX graph\"\"\"\n",
    "    \n",
    "  graph = nx.Graph()\n",
    "  graph.add_nodes_from(nodes)\n",
    "  graph.add_edges_from(edges)\n",
    "  \n",
    "  # display nodes and edges unless otherwise specified\n",
    "  if willPrint:\n",
    "    print(graph.nodes)\n",
    "    print(graph.edges)\n",
    "\n",
    "  return graph\n",
    "\n",
    "\"\"\"\n",
    "For example, the following code creates a NetworkX graph with three nodes and two edges:\n",
    "\n",
    "nodes = [1, 2, 3]\n",
    "edges = [(1, 2), (2, 3)]\n",
    "\n",
    "graph = create_network(nodes, edges)\n",
    "\n",
    "print(graph.nodes) \n",
    "# [1, 2, 3]\n",
    "\n",
    "print(graph.edges) \n",
    "# [(1, 2), (2, 3)] \n",
    "\"\"\""
   ]
  },
  {
   "cell_type": "code",
   "execution_count": 284,
   "metadata": {},
   "outputs": [
    {
     "name": "stdout",
     "output_type": "stream",
     "text": [
      "{'melody': [0, 2, 0], 'mode': [0, 2, 4, 5, 7, 9, 11], 'intervalToNext': [2, -2], 'ctpIsAbove': True, '0': [4, 7, 9, 12, 16, 19], '2': [5, 9, 11, 14, 21]}\n",
      "0\n",
      "prev2s {0, 4, 7, 12, 16, 19}\n",
      "prev2s {0, 12}\n",
      "DiGraph with 23 nodes and 28 edges\n"
     ]
    },
    {
     "data": {
      "image/png": "[encoded data removed]",
      "text/plain": [
       "<Figure size 432x288 with 1 Axes>"
      ]
     },
     "metadata": {},
     "output_type": "display_data"
    },
    {
     "data": {
      "text/plain": [
       "<Figure size 1296x1296 with 0 Axes>"
      ]
     },
     "metadata": {},
     "output_type": "display_data"
    }
   ],
   "source": [
    "from classes import getAllCombos\n",
    "\n",
    "# error: generating incorrect nodes for final note\n",
    "\n",
    "# only goes to index 2\n",
    "combos = getAllCombos([0, 2, 0], True) # write a python line which calculates a sawtooth wave\n",
    "print(combos)\n",
    "G = constructInitialGraph(combos)\n",
    "\n",
    "\"\"\" remove first digit and instead keep track of melody in a list \"\"\"\n",
    "\n",
    "visualize(G)\n",
    "print(G)"
   ]
  },
  {
   "cell_type": "code",
   "execution_count": 285,
   "metadata": {},
   "outputs": [
    {
     "data": {
      "text/plain": [
       "' print(TTET_freq(48)) '"
      ]
     },
     "execution_count": 285,
     "metadata": {},
     "output_type": "execute_result"
    }
   ],
   "source": [
    "import math\n",
    "\n",
    "# reference pitch and reference number\n",
    "ref = {\n",
    "  'num': 49, # A4\n",
    "  'freq': 440 # Hz\n",
    "}\n",
    "\n",
    "def TTET_freq(n):\n",
    "  # distance from reference number 12√2\n",
    "  target_num = n - ref['num'] \n",
    "  \n",
    "  # distance between semitones: 12th root of 2 \n",
    "  semitone = math.pow(2, 1 / 12)\n",
    "  \n",
    "  # ratio from reference frequency\n",
    "  ratio = math.pow(semitone, target_num)\n",
    "  \n",
    "  # frequency\n",
    "  freq = ref['freq'] * ratio\n",
    "  \n",
    "  return freq\n",
    "\n",
    "\"\"\" print(TTET_freq(48)) \"\"\""
   ]
  },
  {
   "cell_type": "code",
   "execution_count": 286,
   "metadata": {},
   "outputs": [
    {
     "data": {
      "text/plain": [
       "' import networkx as nx\\nimport matplotlib.pyplot as plt\\n\\n# Create an empty ordered graph\\nG = nx.DiGraph()\\n\\n# Add nodes to the graph\\nG.add_node(\"0,0,12\")\\nG.add_node(\"1,2,9\")\\nG.add_node(\"1,2,11\")\\nG.add_node(\"2,0,12\")\\n\\n# Add edges to the graph\\nG.add_edge(\"0,0,12\", \"1,2,9\")\\nG.add_edge(\"0,0,12\", \"1,2,11\")\\nG.add_edge(\"1,2,9\", \"2,0,12\")\\nG.add_edge(\"1,2,11\", \"2,0,12\")\\n\\n# Set the spring layout with custom node positions\\npos = nx.spring_layout(G, seed=42)\\n\\nprint(pos)\\n\\n#create dictionary of node indexes\\npos_nodes = G.nodes\\npos_node_x = {}\\nfor node in pos_nodes.items():\\n  node = node[0]\\n  index = node.split(\",\")[0].replace(\"[\", \"\")\\n  pos_node_x[node] = int(index)\\n  print(pos[node])\\n\\nprint(pos_node_x)\\n\\n# Set custom x-axis positions for nodes\\nfor node, x in pos_node_x.items():\\n  pos[node][0] = x\\n\\n# Draw the ordered graph\\nnx.draw(G, pos, with_labels=True, arrows=True)\\n\\n# Show the graph\\nplt.show()\\n '"
      ]
     },
     "execution_count": 286,
     "metadata": {},
     "output_type": "execute_result"
    }
   ],
   "source": [
    "\"\"\" import networkx as nx\n",
    "import matplotlib.pyplot as plt\n",
    "\n",
    "# Create an empty ordered graph\n",
    "G = nx.DiGraph()\n",
    "\n",
    "# Add nodes to the graph\n",
    "G.add_node(\"0,0,12\")\n",
    "G.add_node(\"1,2,9\")\n",
    "G.add_node(\"1,2,11\")\n",
    "G.add_node(\"2,0,12\")\n",
    "\n",
    "# Add edges to the graph\n",
    "G.add_edge(\"0,0,12\", \"1,2,9\")\n",
    "G.add_edge(\"0,0,12\", \"1,2,11\")\n",
    "G.add_edge(\"1,2,9\", \"2,0,12\")\n",
    "G.add_edge(\"1,2,11\", \"2,0,12\")\n",
    "\n",
    "# Set the spring layout with custom node positions\n",
    "pos = nx.spring_layout(G, seed=42)\n",
    "\n",
    "print(pos)\n",
    "\n",
    "#create dictionary of node indexes\n",
    "pos_nodes = G.nodes\n",
    "pos_node_x = {}\n",
    "for node in pos_nodes.items():\n",
    "  node = node[0]\n",
    "  index = node.split(\",\")[0].replace(\"[\", \"\")\n",
    "  pos_node_x[node] = int(index)\n",
    "  print(pos[node])\n",
    "\n",
    "print(pos_node_x)\n",
    "\n",
    "# Set custom x-axis positions for nodes\n",
    "for node, x in pos_node_x.items():\n",
    "  pos[node][0] = x\n",
    "\n",
    "# Draw the ordered graph\n",
    "nx.draw(G, pos, with_labels=True, arrows=True)\n",
    "\n",
    "# Show the graph\n",
    "plt.show()\n",
    " \"\"\""
   ]
  }
 ],
 "metadata": {
  "kernelspec": {
   "display_name": "Synth",
   "language": "python",
   "name": "python3"
  },
  "language_info": {
   "codemirror_mode": {
    "name": "ipython",
    "version": 3
   },
   "file_extension": ".py",
   "mimetype": "text/x-python",
   "name": "python",
   "nbconvert_exporter": "python",
   "pygments_lexer": "ipython3",
   "version": "3.11.0"
  },
  "orig_nbformat": 4,
  "vscode": {
   "interpreter": {
    "hash": "b51894c21c6310f6a97133478b4e90aab47e29fb8bc43fca5989366603090545"
   }
  }
 },
 "nbformat": 4,
 "nbformat_minor": 2
}
