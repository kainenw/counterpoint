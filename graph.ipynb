{
 "cells": [
  {
   "cell_type": "code",
   "execution_count": 1,
   "metadata": {},
   "outputs": [
    {
     "name": "stdout",
     "output_type": "stream",
     "text": [
      "{0, 2, 4, 5, 7, 9, 11}\n"
     ]
    }
   ],
   "source": [
    "import matplotlib\n",
    "import networkx as nx\n",
    "import classes as c\n",
    "\n",
    "def visualize(G):\n",
    "  nx.draw_spring(G, with_labels = True)\n",
    "  matplotlib.pyplot.figure(figsize = (200,200))\n",
    "\n",
    "def removeIsolates(G):\n",
    "  isolates = list(nx.isolates(G))\n",
    "  G.remove_nodes_from(isolates)"
   ]
  },
  {
   "cell_type": "code",
   "execution_count": 2,
   "metadata": {},
   "outputs": [],
   "source": [
    "def generateNodeString(position, cf, ctp):\n",
    "  return '[' + str(position) + ',' + str(cf) + ',' + str(ctp) + ']'"
   ]
  },
  {
   "cell_type": "code",
   "execution_count": 3,
   "metadata": {},
   "outputs": [],
   "source": [
    "def addNodeAndEdge(G, melodyData, curNoteIndex, posOverride = False):\n",
    "  melody = melodyData['melody']\n",
    "  lastNoteIndex = len(melody) - 1\n",
    "  nextCfIndex = curNoteIndex + 1\n",
    "  prevCf = melody[curNoteIndex]\n",
    "  if curNoteIndex < lastNoteIndex:\n",
    "    nextCf = melody[curNoteIndex + 1]\n",
    "    nextCtps = melodyData[str(nextCf)]\n",
    "    if posOverride:\n",
    "      prevCtps = posOverride\n",
    "    else:\n",
    "      prevCtps = melodyData[str(nextCf)]\n",
    "  else:\n",
    "    nextCf = None\n",
    "    nextCtp = None\n",
    "    prevCtps = []\n",
    "    nextCtps = []\n",
    "  for prevCtp in prevCtps:\n",
    "    possStr = generateNodeString(curNoteIndex, prevCf, prevCtp)\n",
    "    validMoves = []\n",
    "    if(curNoteIndex < lastNoteIndex):\n",
    "      for nextCtp in nextCtps:\n",
    "        \"\"\" print(str(prevCf) + \" \"+ str(nextCf) + \" \"+ str(prevCtp) + \" \"+ str(nextCtp)) \"\"\"\n",
    "        isValid = c.isValidMove(prevCf, nextCf, prevCtp, nextCtp)\n",
    "        \"\"\" print( prevCf, )\n",
    "        print(isValid) \"\"\"\n",
    "        if(isValid):\n",
    "          validMoves.append(nextCtp)\n",
    "    if(validMoves):\n",
    "      G.add_node(possStr)\n",
    "      for nextCtp in validMoves:\n",
    "        newNode = generateNodeString(nextCfIndex, nextCf, nextCtp)\n",
    "        G.add_node(newNode)\n",
    "        G.add_edge(possStr, newNode)"
   ]
  },
  {
   "cell_type": "code",
   "execution_count": 4,
   "metadata": {},
   "outputs": [],
   "source": [
    "def xTheNode(G, finalNote, finalIndex, finalNodes):\n",
    "  strings = []\n",
    "  remove = []\n",
    "  for item in finalNodes:\n",
    "    string = generateNodeString(finalIndex, finalNote, item)\n",
    "    strings.append(string)\n",
    "    for node in G.nodes:\n",
    "      for item in strings:\n",
    "        if G.has_node(item):\n",
    "          isPath = nx.has_path(G, str(node), str(item))\n",
    "          print(\"node: \" + node + \" final: \" + item)\n",
    "          if(not strings.__contains__(node)):\n",
    "            if not isPath:\n",
    "              remove.append(node)\n",
    "              print(str(node) + ' failed')\n",
    "          else:\n",
    "            print(str(node))\n",
    "  for node in remove:\n",
    "    G.remove_node(node)"
   ]
  },
  {
   "cell_type": "code",
   "execution_count": 5,
   "metadata": {},
   "outputs": [],
   "source": [
    "def pruneLeaves(G, finalIndex):\n",
    "  # pseudo code\n",
    "  # get degrees for all nodes\n",
    "  degrees = G.degree\n",
    "  remove = [node for node,degree in dict(G.degree()).items() if degree < 2]\n",
    "  for node in remove:\n",
    "    # format node label\n",
    "    node.replace(\"[\", \"\")\n",
    "    node.replace(\"]\", \"\")\n",
    "    node.split(\",\")\n",
    "    index = node[0]\n",
    "    # separate string by commas\n",
    "    # if string[0] is not 0 and is not the final index\n",
    "    # remove all nodes with degree of 1 ## because they either do not have an edge going out or an edge going in\n",
    "    if(index != 0) and (index != finalIndex):\n",
    "      G.remove_node(node)\n",
    "\n",
    "\n",
    "# potentially remove edges not connected to nodes"
   ]
  },
  {
   "cell_type": "code",
   "execution_count": 6,
   "metadata": {},
   "outputs": [],
   "source": [
    "\n",
    "def constructInitialGraph(melodyData, willPrint = False):\n",
    "  melody = melodyData['melody']\n",
    "  G = nx.DiGraph()\n",
    "  nx.draw_spectral(G)\n",
    "  prevNote = None\n",
    "  curNoteIndex = 0\n",
    "  finalIndex = len(melody) - 1\n",
    "  for note in melody:\n",
    "    nextCf = curNoteIndex + 1\n",
    "    nextMoves = []\n",
    "    if(curNoteIndex < finalIndex):\n",
    "      nextMoves = melodyData[str(melody[nextCf])]\n",
    "    validMoves = []\n",
    "    #special cases for first and last nodes\n",
    "    if(curNoteIndex == 0):\n",
    "      if melodyData['ctpIsAbove']:\n",
    "        posCtp = {note + 0, note + 4, note +7, note + 12, note + 16, note + 19}\n",
    "      else:\n",
    "        posCtp = {note, note - 12}\n",
    "      nextMoves = melodyData[str(melody[1])]\n",
    "      \"\"\" print(\"note: \" + str(note) + \" posCtp: \" + str(posCtp)) \"\"\"\n",
    "      addNodeAndEdge(G, melodyData, curNoteIndex, posCtp)\n",
    "    elif(curNoteIndex == finalIndex):\n",
    "      if melodyData['ctpIsAbove']:\n",
    "        finalCtp = {note, note + 12}\n",
    "      else:\n",
    "        finalCtp = {note, note - 12}\n",
    "      addNodeAndEdge(G, melodyData, curNoteIndex, finalCtp)\n",
    "    else:\n",
    "      for possCtp in melodyData[str(note)]:\n",
    "        possString = generateNodeString(curNoteIndex, note, possCtp)\n",
    "        for move in nextMoves:\n",
    "          isValid = c.isValidMove(note, melody[nextCf], possCtp, move)\n",
    "          if(isValid):\n",
    "            validMoves.append(move)\n",
    "        if validMoves:\n",
    "          moveString = generateNodeString(curNoteIndex + 1, melody[curNoteIndex + 1], possCtp)\n",
    "          G.add_node(moveString)\n",
    "          for move in validMoves:\n",
    "            G.add_edge(possString, moveString)\n",
    "        else:\n",
    "          if G.has_node(possString):\n",
    "            G.remove_node(possString)\n",
    "    curNoteIndex += 1\n",
    "  xTheNode(G, melody[finalIndex], finalIndex, finalCtp)\n",
    "  pruneLeaves(G, finalIndex)\n",
    "  removeIsolates(G)\n",
    "  pruneLeaves(G, finalIndex)\n",
    "  removeIsolates(G)\n",
    "  xTheNode(G, melody[finalIndex], finalIndex, finalCtp)\n",
    "  removeIsolates(G)\n",
    "  xTheNode(G, melody[finalIndex], finalIndex, finalCtp)\n",
    "  if willPrint:\n",
    "    print(G.nodes)\n",
    "    print(G.edges)\n",
    "  return G"
   ]
  },
  {
   "cell_type": "code",
   "execution_count": 7,
   "metadata": {},
   "outputs": [
    {
     "name": "stdout",
     "output_type": "stream",
     "text": [
      "{'melody': [0, 5, 4, 9, 7, 5, 4, 2, 0], 'intervalToNext': [5, -1, 5, -2, -2, -1, -2, -2], 'ctpIsAbove': True, '0': [4, 7, 9, 12, 16, 19], '5': [9, 12, 14, 17, 21, 24], '4': [7, 11, 12, 16, 23], '9': [12, 16, 17, 21, 28], '7': [11, 14, 16, 19, 23, 26], '2': [5, 9, 11, 14, 21]}\n",
      "['[0,0,0]', '[1,5,9]', '[1,5,12]', '[0,0,4]', '[1,5,14]', '[0,0,7]', '[0,0,12]', '[1,5,21]', '[0,0,16]', '[0,0,19]', '[2,4,12]']\n",
      "[('[0,0,0]', '[1,5,9]'), ('[0,0,0]', '[1,5,12]'), ('[1,5,12]', '[2,4,12]'), ('[0,0,4]', '[1,5,9]'), ('[0,0,4]', '[1,5,14]'), ('[0,0,7]', '[1,5,9]'), ('[0,0,7]', '[1,5,14]'), ('[0,0,12]', '[1,5,9]'), ('[0,0,12]', '[1,5,14]'), ('[0,0,12]', '[1,5,21]'), ('[0,0,16]', '[1,5,9]'), ('[0,0,16]', '[1,5,14]'), ('[0,0,16]', '[1,5,21]'), ('[0,0,19]', '[1,5,9]'), ('[0,0,19]', '[1,5,14]'), ('[0,0,19]', '[1,5,21]')]\n",
      "DiGraph with 11 nodes and 16 edges\n"
     ]
    },
    {
     "data": {
      "image/png": "[encoded data removed]",
      "text/plain": [
       "<Figure size 432x288 with 1 Axes>"
      ]
     },
     "metadata": {},
     "output_type": "display_data"
    },
    {
     "data": {
      "text/plain": [
       "<Figure size 14400x14400 with 0 Axes>"
      ]
     },
     "metadata": {},
     "output_type": "display_data"
    }
   ],
   "source": [
    "from classes import getAllCombos\n",
    "\n",
    "combos = getAllCombos([0,5,4,9,7,5,4,2,0], True)\n",
    "print(combos)\n",
    "G = constructInitialGraph(combos, True)\n",
    "visualize(G)\n",
    "print(G)"
   ]
  }
 ],
 "metadata": {
  "kernelspec": {
   "display_name": "Synth",
   "language": "python",
   "name": "python3"
  },
  "language_info": {
   "codemirror_mode": {
    "name": "ipython",
    "version": 3
   },
   "file_extension": ".py",
   "mimetype": "text/x-python",
   "name": "python",
   "nbconvert_exporter": "python",
   "pygments_lexer": "ipython3",
   "version": "3.11.0"
  },
  "orig_nbformat": 4
 },
 "nbformat": 4,
 "nbformat_minor": 2
}
