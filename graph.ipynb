{
 "cells": [
  {
   "cell_type": "code",
   "execution_count": 65,
   "metadata": {},
   "outputs": [],
   "source": [
    "import matplotlib\n",
    "import networkx as nx\n",
    "import classes as c"
   ]
  },
  {
   "cell_type": "code",
   "execution_count": 66,
   "metadata": {},
   "outputs": [],
   "source": [
    "def generateNodeString(position, cf, ctp):\n",
    "  return '[' + str(position) + ',' + str(cf) + ',' + str(ctp) + ']'"
   ]
  },
  {
   "attachments": {},
   "cell_type": "markdown",
   "metadata": {},
   "source": [
    "## Pruning Functons"
   ]
  },
  {
   "cell_type": "code",
   "execution_count": 67,
   "metadata": {},
   "outputs": [],
   "source": [
    "def addNodeAndEdge(G, melodyData, prevIndex, posOverride = False):\n",
    "  finalIndex = len(melody) - 1\n",
    "  nextIndex = prevIndex + 1\n",
    "  \n",
    "  melody = melodyData['melody']\n",
    "  prev1 = melody[prevIndex]\n",
    "  \n",
    "  if melody[nextIndex]:\n",
    "    next1 = melody[prevIndex + 1]\n",
    "    next2s = melodyData[str(next1)]\n",
    "    if posOverride:\n",
    "      prev2s = posOverride\n",
    "    else:\n",
    "      prev2s = melodyData[str(next1)]\n",
    "  elif(prevIndex == finalIndex):\n",
    "    prev2s = posOverride\n",
    "  else:\n",
    "    next1 = None\n",
    "    next2 = None\n",
    "    prev2s = []\n",
    "    next2s = []\n",
    "  for prevCtp in prev2s:\n",
    "    prevStr = generateNodeString(prevIndex, prev1, prevCtp)\n",
    "    validMoves = []\n",
    "    if(prevIndex < finalIndex):\n",
    "      for next2 in next2s:\n",
    "        if(c.isValidMove(prev1, next1, prevCtp, next2)):\n",
    "          validMoves.append(next2)\n",
    "      G.add_node(prevStr)\n",
    "      for next2 in validMoves:\n",
    "        newNode = generateNodeString(nextIndex, next1, next2)\n",
    "        G.add_node(newNode)\n",
    "        G.add_edge(prevStr, newNode)"
   ]
  },
  {
   "cell_type": "code",
   "execution_count": 68,
   "metadata": {},
   "outputs": [],
   "source": [
    "def removeIsolates(G):\n",
    "  isolates = list(nx.isolates(G))\n",
    "  G.remove_nodes_from(isolates)\n",
    "\n",
    "# TODO make the function find path to actual final node(s), not just the last node that exists\n",
    "# TODO find out what makes this function too strong for purpose -- removes too many nodes\n",
    "def xTheNode(G, finalNote, finalIndex, finalNodes):\n",
    "  strings = []\n",
    "  remove = []\n",
    "  for item in finalNodes:\n",
    "    string = generateNodeString(finalIndex, finalNote, item)\n",
    "    strings.append(string)\n",
    "    for node in G.nodes:\n",
    "      for item in strings:\n",
    "        if G.has_node(item):\n",
    "          isPath = nx.has_path(G, str(node), str(item))\n",
    "          print(\"node: \" + node + \" final: \" + item)\n",
    "          if(not strings.__contains__(node)):\n",
    "            if not isPath:\n",
    "              remove.append(node)\n",
    "              print(str(node) + ' failed')\n",
    "          else:\n",
    "            print(str(node))\n",
    "  for node in remove:\n",
    "    G.remove_node(node)\n",
    "\n",
    "def pruneLeaves(G, finalIndex):\n",
    "  # pseudo code\n",
    "  # get degrees for all nodes\n",
    "  degrees = G.degree\n",
    "  remove = [node for node,degree in dict(G.degree()).items() if degree < 2]\n",
    "  for node in remove:\n",
    "    # isolate index\n",
    "    index = node.replace(\"[\", \"\").split(\",\")[0]\n",
    "    print(index)\n",
    "    print(int(index) < finalIndex)\n",
    "    #if string[0] is not the final index\n",
    "    if(int(index) < finalIndex):\n",
    "      # if string[0] is not 0\n",
    "      if(index != 0):\n",
    "        # remove all nodes with degree of 1\n",
    "        print(node)\n",
    "        G.remove_node(node)\n",
    "\n",
    "# potentially remove edges not connected to nodes"
   ]
  },
  {
   "cell_type": "code",
   "execution_count": 69,
   "metadata": {},
   "outputs": [],
   "source": [
    "def removeNodes(G, finalNote, finalIndex, finalNodes):\n",
    "  print(finalIndex)\n",
    "  removeIsolates(G)\n",
    "  xTheNode(G, finalNote, finalIndex, finalNodes)\n",
    "  pruneLeaves(G, finalIndex)\n",
    "  # too strong"
   ]
  },
  {
   "cell_type": "code",
   "execution_count": null,
   "metadata": {},
   "outputs": [],
   "source": [
    "# check if moves are valid\n",
    "def nextMoves(prev1, next1, prev2, posNext2):\n",
    "  "
   ]
  },
  {
   "cell_type": "code",
   "execution_count": 70,
   "metadata": {},
   "outputs": [],
   "source": [
    "def constructInitialGraph(melodyData, willPrint = False):\n",
    "  melody = melodyData['melody']\n",
    "  G = nx.DiGraph()\n",
    "  \"\"\" nx.draw_spectral(G) \"\"\"\n",
    "  curIndex = 0\n",
    "  finalIndex = len(melody) - 1\n",
    "  \n",
    "  # generate first nodes\n",
    "  note = melody[0]\n",
    "  if melodyData['ctpIsAbove']:\n",
    "    firstPosCtp = {note + 0, note + 4, note +7, note + 12, note + 16, note + 19}\n",
    "  else:\n",
    "    firstPosCtp = {note, note - 12}\n",
    "  nextMoves = melodyData[str(melody[1])]\n",
    "  \n",
    "  addNodeAndEdge(G, melodyData, curIndex, firstPosCtp)\n",
    "  \n",
    "  #generate middle nodes\n",
    "  for i in range(1, finalIndex - 1):\n",
    "    note = melody[i]\n",
    "    print(\" cur: \" + str(curIndex) + \" fin: \" + str(finalIndex))\n",
    "    nextCf = curIndex + 1\n",
    "    nextMoves = []\n",
    "    nextMoves = melodyData[str(melody[nextCf])]\n",
    "    validMoves = []\n",
    "    for possCtp in melodyData[str(note)]:\n",
    "      possString = generateNodeString(curIndex, note, possCtp)\n",
    "      for move in nextMoves:\n",
    "        isValid = c.isValidMove(note, melody[nextCf], possCtp, move)\n",
    "        if(isValid):\n",
    "          validMoves.append(move)\n",
    "      if validMoves:\n",
    "        moveString = generateNodeString(curIndex + 1, melody[curIndex + 1], possCtp)\n",
    "        G.add_node(moveString)\n",
    "        for move in validMoves:\n",
    "          G.add_edge(possString, moveString)\n",
    "      else:\n",
    "        if G.has_node(possString):\n",
    "          G.remove_node(possString)\n",
    "  \n",
    "  # generate last nodes\n",
    "  note = melody[finalIndex]\n",
    "  if melodyData['ctpIsAbove']:\n",
    "    finalCtp = {note, note + 12}\n",
    "  else:\n",
    "    finalCtp = {note, note - 12}\n",
    "  \n",
    "  \n",
    "  addNodeAndEdge(G, melodyData, curIndex, finalCtp)\n",
    "  removeNodes(G, melody[finalIndex], finalIndex, finalCtp)\n",
    "  removeNodes(G, melody[finalIndex], finalIndex, finalCtp)\n",
    "  \n",
    "  if willPrint:\n",
    "    print(G.nodes)\n",
    "    print(G.edges)\n",
    "    \n",
    "  return G"
   ]
  },
  {
   "cell_type": "code",
   "execution_count": 71,
   "metadata": {},
   "outputs": [],
   "source": [
    "def visualize(G):\n",
    "  nx.random_layout(G)\n",
    "  nx.draw_shell(G, with_labels = True)\n",
    "  matplotlib.pyplot.figure(figsize = (2^16,2^16))"
   ]
  },
  {
   "attachments": {},
   "cell_type": "markdown",
   "metadata": {},
   "source": []
  },
  {
   "cell_type": "code",
   "execution_count": null,
   "metadata": {},
   "outputs": [],
   "source": [
    "from classes import getAllCombos\n",
    "\n",
    "# only goes to index 2\n",
    "combos = getAllCombos([0,5,4,2], True)\n",
    "print(combos)\n",
    "G = constructInitialGraph(combos, True)\n",
    "\n",
    "visualize(G)\n",
    "print(G)"
   ]
  }
 ],
 "metadata": {
  "kernelspec": {
   "display_name": "Synth",
   "language": "python",
   "name": "python3"
  },
  "language_info": {
   "codemirror_mode": {
    "name": "ipython",
    "version": 3
   },
   "file_extension": ".py",
   "mimetype": "text/x-python",
   "name": "python",
   "nbconvert_exporter": "python",
   "pygments_lexer": "ipython3",
   "version": "3.11.0"
  },
  "orig_nbformat": 4
 },
 "nbformat": 4,
 "nbformat_minor": 2
}
