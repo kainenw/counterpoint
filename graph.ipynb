{
 "cells": [
  {
   "cell_type": "code",
   "execution_count": 1,
   "metadata": {
    "tags": []
   },
   "outputs": [],
   "source": [
    "import networkx as nx\n",
    "import matplotlib.pyplot as plt"
   ]
  },
  {
   "cell_type": "code",
   "execution_count": 2,
   "metadata": {
    "tags": []
   },
   "outputs": [],
   "source": [
    "def node_label(position, cf, ctp):\n",
    "  return str(position) + ':' + str(cf) + ',' + str(ctp)"
   ]
  },
  {
   "cell_type": "markdown",
   "metadata": {
    "tags": []
   },
   "source": [
    "## Pruning Functons"
   ]
  },
  {
   "cell_type": "code",
   "execution_count": 3,
   "metadata": {
    "tags": []
   },
   "outputs": [],
   "source": [
    "# remove all nodes unreachable from a first node\n",
    "\n",
    "def remove_unreachable_nodes(graph):\n",
    "    \"\"\"\n",
    "    Remove nodes from a NetworkX graph that are not on a path to any of the specified nodes.\n",
    "\n",
    "    Args:\n",
    "        G (nx.Graph or nx.DiGraph): The input graph.\n",
    "        specified_nodes (list): List of nodes that are considered reachable.\n",
    "\n",
    "    Returns:\n",
    "        nx.Graph or nx.DiGraph: The modified graph with unreachable nodes removed.\n",
    "    \"\"\"\n",
    "    # find first nodes\n",
    "    nodes = list(graph.nodes())\n",
    "    first_nodes = []\n",
    "    for node in nodes:\n",
    "      index = int(node.split(':')[0])\n",
    "      if index == 0:\n",
    "        first_nodes.append(node)\n",
    "      \n",
    "    # Create a set of reachable nodes\n",
    "    reachable_nodes = set(first_nodes)\n",
    "\n",
    "    # Perform a breadth-first search from each specified node and add all reachable nodes to the set\n",
    "    for node in first_nodes:\n",
    "        reachable_nodes.update(nx.descendants(graph, node))\n",
    "\n",
    "    # Get the set of nodes that are not reachable\n",
    "    unreachable_nodes = set(graph.nodes()) - reachable_nodes\n",
    "\n",
    "    # Remove the unreachable nodes from the graph\n",
    "    graph.remove_nodes_from(unreachable_nodes)\n",
    "\n",
    "    # Return the modified graph with unreachable nodes removed\n",
    "    return graph"
   ]
  },
  {
   "cell_type": "code",
   "execution_count": 4,
   "metadata": {
    "tags": []
   },
   "outputs": [],
   "source": [
    "# remove nodes not on a path to a final node\n",
    "\n",
    "def remove_unreaching_nodes(graph, final_index):\n",
    "  \"\"\"Remove nodes from a NetworkX graph that do not have a path to any of the\n",
    "  nodes in the input array.\n",
    "\n",
    "  Args:\n",
    "      G (nx.Graph or nx.DiGraph): The input graph.\n",
    "      nodes (list): List of nodes that are considered reachable.\n",
    "\n",
    "  Returns:\n",
    "      nx.Graph or nx.DiGraph: The modified graph with unreachable nodes removed.\n",
    "  \"\"\"\n",
    "  # Create a list of last nodes\n",
    "  nodes = list(graph.nodes())\n",
    "  final_nodes = []\n",
    "  for node in nodes:\n",
    "    index = int(node.split(':')[0])\n",
    "    if index == final_index:\n",
    "      final_nodes.append(node)\n",
    "  on_path = []\n",
    "\n",
    "  # add all nodes on a path to the end to on_path.\n",
    "  \n",
    "  while nodes:\n",
    "    node = nodes.pop()\n",
    "    is_on_path = None\n",
    "    for final_node in final_nodes:\n",
    "      if final_node.__contains__(node):\n",
    "        is_on_path = True\n",
    "      elif not is_on_path:\n",
    "        descendants = (nx.descendants(graph, node))\n",
    "        if descendants.__contains__(final_node):\n",
    "          is_on_path = True\n",
    "    if is_on_path:\n",
    "      on_path.append(node)\n",
    "  \n",
    "  # Create a set of all of the nodes that do not have a path to any of the specified nodes.\n",
    "  \n",
    "  unreaching_nodes = set(graph.nodes()) - set(on_path)\n",
    "  \n",
    "  # Remove all of the unreaching nodes from the graph.\n",
    "  for node in unreaching_nodes:\n",
    "    graph.remove_node(node)\n",
    "  \n",
    "  return graph"
   ]
  },
  {
   "cell_type": "code",
   "execution_count": 5,
   "metadata": {},
   "outputs": [],
   "source": [
    "# only works with first species and ctp above\n",
    "def find_nodes_and_edges(melody_data):\n",
    "    melody = melody_data[\"melody\"]\n",
    "    final_index = len(melody) - 1\n",
    "    \n",
    "    all_possibilities = dict()\n",
    "    \n",
    "    nodes = list()\n",
    "    final_nodes = list()\n",
    "    first_nodes = list()\n",
    "    edges = list()\n",
    "    \n",
    "    # find all possible nodes\n",
    "    for i in range(0, len(melody)):\n",
    "        note = melody[i]\n",
    "        current = all_possibilities[i] = []\n",
    "        \n",
    "        # get possible counterpoint notes\n",
    "        if i == 0 or i == final_index:\n",
    "            possible_ctps = [note, note + 7, note + 12, note + 19]\n",
    "        elif i == final_index - 1:\n",
    "            if note > 0:\n",
    "              possible_ctps = [note + 9]\n",
    "            elif note < 0:\n",
    "              possible_ctps = [note + 3, note + 3 + 12]\n",
    "        else:\n",
    "            possible_ctps = melody_data[str(note)]\n",
    "        \n",
    "        # add nodes for each possible ctp\n",
    "        for ctp in possible_ctps:\n",
    "            label = node_label(\n",
    "                i, note, ctp\n",
    "            )  # create label: \"index, melody note, ctp note\"\n",
    "            current.append(ctp)  # add label to possibilities dictionary\n",
    "            nodes.append(label)  # add label to nodes list\n",
    "            if i == 0:\n",
    "                first_nodes.append(label)\n",
    "            if i == final_index:\n",
    "                final_nodes.append(label)\n",
    "                \n",
    "    # find all possible edges\n",
    "    for key, possibilities in all_possibilities.items():\n",
    "      \n",
    "        if key != final_index:\n",
    "            note = melody[key]\n",
    "            index = int(key)\n",
    "\n",
    "            next_index = index + 1\n",
    "            next_note = melody[next_index]\n",
    "            next_possibilities = all_possibilities[next_index]\n",
    "\n",
    "            for possibility in possibilities:\n",
    "                label = node_label(index, note, possibility)\n",
    "                for next_possibility in next_possibilities:\n",
    "                    # check if move is valid, if so add edge\n",
    "                    valid = first.is_valid_move(note, next_note, possibility, next_possibility)\n",
    "                    if valid:\n",
    "                        next_label = node_label(next_index, next_note, next_possibility)\n",
    "                        edge = (label, next_label)\n",
    "                        edges.append(edge)\n",
    "    return {\"nodes\": nodes, \"edges\": edges, \"final_index\": final_index}"
   ]
  },
  {
   "cell_type": "code",
   "execution_count": 6,
   "metadata": {
    "tags": []
   },
   "outputs": [],
   "source": [
    "def make_network(nodes, edges, final_index, willPrint=True):\n",
    "  \"\"\"\n",
    "  input:\n",
    "    1. nodes array ( form: [a,b,c] )\n",
    "    2. edges array ( form: [(a,b),(b,c)] )\n",
    "  output:\n",
    "    a NetworkX graph\"\"\"\n",
    "    \n",
    "  graph = nx.DiGraph()\n",
    "  graph.add_nodes_from(nodes)\n",
    "  graph.add_edges_from(edges)\n",
    "  \n",
    "  print(graph)\n",
    "  # check if graph is for the cantus firmus \n",
    "  if(nodes.__len__() != edges.__len__()+1):\n",
    "    graph = remove_unreachable_nodes(graph)\n",
    "    graph = remove_unreaching_nodes(graph,final_index)\n",
    "  \n",
    "  # display nodes and edges unless otherwise specified\n",
    "  if willPrint:\n",
    "    print(graph.nodes)\n",
    "    print(graph.edges)\n",
    "  \n",
    "  return graph"
   ]
  },
  {
   "cell_type": "code",
   "execution_count": 7,
   "metadata": {
    "tags": []
   },
   "outputs": [],
   "source": [
    "`"
   ]
  },
  {
   "cell_type": "code",
   "execution_count": 8,
   "metadata": {},
   "outputs": [],
   "source": [
    "# get melody edges\n",
    "def get_melody_edges(arr):\n",
    "  edges = list()\n",
    "  for i in range(0, arr.__len__() - 1):\n",
    "    edge = [melody[i], melody[i+1]]\n",
    "    edges.append(edge)\n",
    "  return edges"
   ]
  },
  {
   "cell_type": "code",
   "execution_count": 9,
   "metadata": {
    "tags": []
   },
   "outputs": [
    {
     "name": "stdout",
     "output_type": "stream",
     "text": [
      "imperfect\n",
      "7\n",
      "-7\n",
      "perfect\n",
      "False\n",
      "True\n",
      "{'melody': [0, 2, 4, 5, 7, 9, 11, 12], 'mode': 0, 'interval_to_next': [2, 2, 1, 2, 2, 2, 1], 'ctp_is_above': True, '0': [4, 7, 9, 12, 16, 19], '2': [5, 9, 11, 14, 21], '4': [7, 11, 12, 16, 23], '5': [9, 12, 14, 17, 21, 24], '7': [11, 14, 16, 19, 23, 26], '9': [12, 16, 17, 21, 28], '11': [14, 19, 23], '12': [16, 19, 21, 24, 28, 31]}\n",
      "melody data: {'melody': [0, 4, 9, 7, 4, 2, 0], 'mode': 0, 'interval_to_next': [4, 5, -2, -3, -2, -2], 'ctp_is_above': True, '0': [4, 7, 9, 12, 16, 19], '4': [7, 11, 12, 16, 23], '9': [12, 16, 17, 21, 28], '7': [11, 14, 16, 19, 23, 26], '2': [5, 9, 11, 14, 21]}\n",
      "nodes: ['0:0,0', '0:0,7', '0:0,12', '0:0,19', '1:4,7', '1:4,11', '1:4,12', '1:4,16', '1:4,23', '2:9,12', '2:9,16', '2:9,17', '2:9,21', '2:9,28', '3:7,11', '3:7,14', '3:7,16', '3:7,19', '3:7,23', '3:7,26', '4:4,7', '4:4,11', '4:4,12', '4:4,16', '4:4,23', '5:2,11', '6:0,0', '6:0,7', '6:0,12', '6:0,19']\n",
      "edges: [('0:0,0', '1:4,7'), ('0:0,7', '1:4,7'), ('0:0,7', '1:4,12'), ('0:0,12', '1:4,7'), ('0:0,12', '1:4,11'), ('0:0,12', '1:4,12'), ('0:0,12', '1:4,16'), ('0:0,19', '1:4,11'), ('0:0,19', '1:4,12'), ('0:0,19', '1:4,16'), ('0:0,19', '1:4,23'), ('1:4,7', '2:9,12'), ('1:4,11', '2:9,12'), ('1:4,11', '2:9,17'), ('1:4,12', '2:9,12'), ('1:4,12', '2:9,17'), ('1:4,16', '2:9,12'), ('1:4,16', '2:9,16'), ('1:4,16', '2:9,17'), ('1:4,16', '2:9,21'), ('1:4,23', '2:9,16'), ('1:4,23', '2:9,17'), ('1:4,23', '2:9,21'), ('1:4,23', '2:9,28'), ('2:9,12', '3:7,11'), ('2:9,12', '3:7,14'), ('2:9,12', '3:7,16'), ('2:9,12', '3:7,19'), ('2:9,16', '3:7,11'), ('2:9,16', '3:7,16'), ('2:9,16', '3:7,19'), ('2:9,16', '3:7,23'), ('2:9,17', '3:7,11'), ('2:9,17', '3:7,16'), ('2:9,17', '3:7,19'), ('2:9,17', '3:7,23'), ('2:9,21', '3:7,16'), ('2:9,21', '3:7,19'), ('2:9,21', '3:7,23'), ('2:9,21', '3:7,26'), ('2:9,28', '3:7,23'), ('2:9,28', '3:7,26'), ('3:7,11', '4:4,7'), ('3:7,11', '4:4,11'), ('3:7,11', '4:4,12'), ('3:7,11', '4:4,16'), ('3:7,14', '4:4,7'), ('3:7,14', '4:4,12'), ('3:7,14', '4:4,16'), ('3:7,16', '4:4,12'), ('3:7,16', '4:4,16'), ('3:7,16', '4:4,23'), ('3:7,19', '4:4,12'), ('3:7,19', '4:4,16'), ('3:7,19', '4:4,23'), ('3:7,23', '4:4,16'), ('3:7,23', '4:4,23'), ('3:7,26', '4:4,23'), ('4:4,7', '5:2,11'), ('4:4,11', '5:2,11'), ('4:4,12', '5:2,11'), ('4:4,16', '5:2,11'), ('5:2,11', '6:0,12'), ('5:2,11', '6:0,19')]\n",
      "DiGraph with 30 nodes and 64 edges\n",
      "['0:0,0', '0:0,7', '0:0,12', '0:0,19', '1:4,7', '1:4,11', '1:4,12', '1:4,16', '1:4,23', '2:9,12', '2:9,16', '2:9,17', '2:9,21', '2:9,28', '3:7,11', '3:7,14', '3:7,16', '3:7,19', '3:7,23', '4:4,7', '4:4,11', '4:4,12', '4:4,16', '5:2,11', '6:0,12', '6:0,19']\n",
      "[('0:0,0', '1:4,7'), ('0:0,7', '1:4,7'), ('0:0,7', '1:4,12'), ('0:0,12', '1:4,7'), ('0:0,12', '1:4,11'), ('0:0,12', '1:4,12'), ('0:0,12', '1:4,16'), ('0:0,19', '1:4,11'), ('0:0,19', '1:4,12'), ('0:0,19', '1:4,16'), ('0:0,19', '1:4,23'), ('1:4,7', '2:9,12'), ('1:4,11', '2:9,12'), ('1:4,11', '2:9,17'), ('1:4,12', '2:9,12'), ('1:4,12', '2:9,17'), ('1:4,16', '2:9,12'), ('1:4,16', '2:9,16'), ('1:4,16', '2:9,17'), ('1:4,16', '2:9,21'), ('1:4,23', '2:9,16'), ('1:4,23', '2:9,17'), ('1:4,23', '2:9,21'), ('1:4,23', '2:9,28'), ('2:9,12', '3:7,11'), ('2:9,12', '3:7,14'), ('2:9,12', '3:7,16'), ('2:9,12', '3:7,19'), ('2:9,16', '3:7,11'), ('2:9,16', '3:7,16'), ('2:9,16', '3:7,19'), ('2:9,16', '3:7,23'), ('2:9,17', '3:7,11'), ('2:9,17', '3:7,16'), ('2:9,17', '3:7,19'), ('2:9,17', '3:7,23'), ('2:9,21', '3:7,16'), ('2:9,21', '3:7,19'), ('2:9,21', '3:7,23'), ('2:9,28', '3:7,23'), ('3:7,11', '4:4,7'), ('3:7,11', '4:4,11'), ('3:7,11', '4:4,12'), ('3:7,11', '4:4,16'), ('3:7,14', '4:4,7'), ('3:7,14', '4:4,12'), ('3:7,14', '4:4,16'), ('3:7,16', '4:4,12'), ('3:7,16', '4:4,16'), ('3:7,19', '4:4,12'), ('3:7,19', '4:4,16'), ('3:7,23', '4:4,16'), ('4:4,7', '5:2,11'), ('4:4,11', '5:2,11'), ('4:4,12', '5:2,11'), ('4:4,16', '5:2,11'), ('5:2,11', '6:0,12'), ('5:2,11', '6:0,19')]\n",
      "DiGraph with 5 nodes and 6 edges\n",
      "[0, 4, 9, 7, 2]\n",
      "[(0, 4), (4, 9), (4, 2), (9, 7), (7, 4), (2, 0)]\n",
      "network: DiGraph with 26 nodes and 58 edges\n",
      "Error parsing node 0:0,0. Ensure it follows the 'index:label' format.\n",
      "Error parsing node 0:0,7. Ensure it follows the 'index:label' format.\n",
      "Error parsing node 0:0,12. Ensure it follows the 'index:label' format.\n",
      "Error parsing node 0:0,19. Ensure it follows the 'index:label' format.\n",
      "Error parsing node 1:4,7. Ensure it follows the 'index:label' format.\n",
      "Error parsing node 1:4,11. Ensure it follows the 'index:label' format.\n",
      "Error parsing node 1:4,12. Ensure it follows the 'index:label' format.\n",
      "Error parsing node 1:4,16. Ensure it follows the 'index:label' format.\n",
      "Error parsing node 1:4,23. Ensure it follows the 'index:label' format.\n",
      "Error parsing node 2:9,12. Ensure it follows the 'index:label' format.\n",
      "Error parsing node 2:9,16. Ensure it follows the 'index:label' format.\n",
      "Error parsing node 2:9,17. Ensure it follows the 'index:label' format.\n",
      "Error parsing node 2:9,21. Ensure it follows the 'index:label' format.\n",
      "Error parsing node 2:9,28. Ensure it follows the 'index:label' format.\n",
      "Error parsing node 3:7,11. Ensure it follows the 'index:label' format.\n",
      "Error parsing node 3:7,14. Ensure it follows the 'index:label' format.\n",
      "Error parsing node 3:7,16. Ensure it follows the 'index:label' format.\n",
      "Error parsing node 3:7,19. Ensure it follows the 'index:label' format.\n",
      "Error parsing node 3:7,23. Ensure it follows the 'index:label' format.\n",
      "Error parsing node 4:4,7. Ensure it follows the 'index:label' format.\n",
      "Error parsing node 4:4,11. Ensure it follows the 'index:label' format.\n",
      "Error parsing node 4:4,12. Ensure it follows the 'index:label' format.\n",
      "Error parsing node 4:4,16. Ensure it follows the 'index:label' format.\n",
      "Error parsing node 5:2,11. Ensure it follows the 'index:label' format.\n",
      "Error parsing node 6:0,12. Ensure it follows the 'index:label' format.\n",
      "Error parsing node 6:0,19. Ensure it follows the 'index:label' format.\n"
     ]
    },
    {
     "ename": "KeyError",
     "evalue": "'0:0,0'",
     "output_type": "error",
     "traceback": [
      "\u001b[0;31m---------------------------------------------------------------------------\u001b[0m",
      "\u001b[0;31mKeyError\u001b[0m                                  Traceback (most recent call last)",
      "Cell \u001b[0;32mIn[9], line 21\u001b[0m\n\u001b[1;32m     18\u001b[0m networkCf \u001b[38;5;241m=\u001b[39m make_network(melody, networkCf_edges, final_index)\n\u001b[1;32m     20\u001b[0m \u001b[38;5;28mprint\u001b[39m(\u001b[38;5;124m\"\u001b[39m\u001b[38;5;124mnetwork:\u001b[39m\u001b[38;5;124m\"\u001b[39m, networkCtp)\n\u001b[0;32m---> 21\u001b[0m visualize_network(networkCtp)\n\u001b[1;32m     22\u001b[0m \u001b[38;5;28mprint\u001b[39m(networkCf\u001b[38;5;241m.\u001b[39mnodes())\n\u001b[1;32m     23\u001b[0m visualize_network(networkCf)\n",
      "Cell \u001b[0;32mIn[7], line 48\u001b[0m, in \u001b[0;36mvisualize_network\u001b[0;34m(G)\u001b[0m\n\u001b[1;32m     46\u001b[0m \u001b[38;5;66;03m# Update positions for all nodes\u001b[39;00m\n\u001b[1;32m     47\u001b[0m \u001b[38;5;28;01mfor\u001b[39;00m node \u001b[38;5;129;01min\u001b[39;00m G\u001b[38;5;241m.\u001b[39mnodes():\n\u001b[0;32m---> 48\u001b[0m     pos[node] \u001b[38;5;241m=\u001b[39m (pos_node_x[node], pos_node_y[node])\n\u001b[1;32m     50\u001b[0m \u001b[38;5;66;03m# Draw the graph\u001b[39;00m\n\u001b[1;32m     51\u001b[0m plt\u001b[38;5;241m.\u001b[39mfigure(figsize\u001b[38;5;241m=\u001b[39m(\u001b[38;5;241m12\u001b[39m, \u001b[38;5;241m8\u001b[39m))\n",
      "\u001b[0;31mKeyError\u001b[0m: '0:0,0'"
     ]
    }
   ],
   "source": [
    "import first\n",
    "\n",
    "melody = [0,4,9,7,4,2,0]\n",
    "melody_data = first.get_all_combos(melody, True)\n",
    "print(\"melody data:\", melody_data)\n",
    "\n",
    "nodes_and_edges = find_nodes_and_edges(melody_data)\n",
    "# deconstructing the variable with the following line led to the new variables being interpreted as strings: nodes, edges, final_index = nodes_and_edges\n",
    "nodes = nodes_and_edges[\"nodes\"]\n",
    "edges = nodes_and_edges[\"edges\"]\n",
    "final_index = nodes_and_edges[\"final_index\"]\n",
    "print(\"nodes:\", nodes)\n",
    "print(\"edges:\", edges)\n",
    "\n",
    "networkCf_edges = get_melody_edges(melody)\n",
    "\n",
    "networkCtp = make_network(nodes, edges, final_index)\n",
    "networkCf = make_network(melody, networkCf_edges, final_index)\n",
    "\n",
    "print(\"network:\", networkCtp)\n",
    "visualize_network(networkCtp)\n",
    "print(networkCf.nodes())\n",
    "visualize_network(networkCf)\n",
    "\n"
   ]
  }
 ],
 "metadata": {
  "kernelspec": {
   "display_name": "Python 3 (ipykernel)",
   "language": "python",
   "name": "python3"
  },
  "language_info": {
   "codemirror_mode": {
    "name": "ipython",
    "version": 3
   },
   "file_extension": ".py",
   "mimetype": "text/x-python",
   "name": "python",
   "nbconvert_exporter": "python",
   "pygments_lexer": "ipython3",
   "version": "3.12.4"
  },
  "vscode": {
   "interpreter": {
    "hash": "b51894c21c6310f6a97133478b4e90aab47e29fb8bc43fca5989366603090545"
   }
  }
 },
 "nbformat": 4,
 "nbformat_minor": 4
}
