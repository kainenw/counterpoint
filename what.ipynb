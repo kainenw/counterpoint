{
 "cells": [
  {
   "cell_type": "code",
   "execution_count": 304,
   "metadata": {},
   "outputs": [],
   "source": [
    "import scales\n",
    "\n",
    "from classes import pitchClass\n",
    "\n",
    "def isInGamut(note, gamutType = \"dia\", mode = \"i\"):\n",
    "  gamut = scales.scales[gamutType][mode]\n",
    "  contains = gamut.__contains__(pitchClass(note))\n",
    "  return contains"
   ]
  },
  {
   "cell_type": "code",
   "execution_count": 305,
   "metadata": {},
   "outputs": [],
   "source": [
    "from tests import testHigherCf, testLowerCf\n",
    "\n",
    "from classes import intervalClassModTwelve\n",
    "\n",
    "# todo detect gamut type and mode\n",
    "def getAllCombos(melody, ctpAbove, gamutType = \"dia\", mode = \"i\"):\n",
    "  combos = {\n",
    "    'melody': melody,\n",
    "    'intervalToNext': [],\n",
    "    'ctpIsAbove': ctpAbove\n",
    "  }\n",
    "  prevNote = None\n",
    "  intervals = [3,4,7,8,9,12,16,19]\n",
    "  for note in melody:\n",
    "    possibleNotes = []\n",
    "    for interval in intervals:\n",
    "      if ctpAbove:\n",
    "        possibleNote = note + interval\n",
    "      else:\n",
    "        possibleNote = note - interval\n",
    "      if isInGamut(possibleNote, gamutType, mode):\n",
    "        possibleNotes.append(possibleNote)\n",
    "    if(prevNote != None):\n",
    "      combos[\"intervalToNext\"].append(note - prevNote)\n",
    "    combos[str(note)] = possibleNotes\n",
    "    \"\"\" print(\"note: \" + str(note) + \"\\n\" + \"prevNote: \" + str(prevNote)) \"\"\"\n",
    "    prevNote = note\n",
    "  return combos"
   ]
  },
  {
   "cell_type": "code",
   "execution_count": 306,
   "metadata": {},
   "outputs": [
    {
     "data": {
      "text/plain": [
       "' print(getAllCombos(testHigherCf[\"a\"], False)) '"
      ]
     },
     "execution_count": 306,
     "metadata": {},
     "output_type": "execute_result"
    }
   ],
   "source": [
    "\"\"\" print(getAllCombos(testHigherCf[\"a\"], False)) \"\"\""
   ]
  },
  {
   "cell_type": "code",
   "execution_count": 307,
   "metadata": {},
   "outputs": [],
   "source": [
    "def generateNodeString(position, cf, ctp):\n",
    "  return '[' + str(position) + ',' + str(cf) + ',' + str(ctp) + ']'"
   ]
  },
  {
   "cell_type": "code",
   "execution_count": 308,
   "metadata": {},
   "outputs": [],
   "source": [
    "import matplotlib\n",
    "import networkx as nx\n",
    "import classes as c\n",
    "\n",
    "def visualize(G):\n",
    "  nx.draw_spring(G, with_labels = True)\n",
    "  matplotlib.pyplot.figure(figsize = (200,200))\n",
    "\n",
    "def removeIsolates(G):\n",
    "  isolates = list(nx.isolates(G))\n",
    "  G.remove_nodes_from(isolates)\n",
    "  "
   ]
  },
  {
   "cell_type": "code",
   "execution_count": 309,
   "metadata": {},
   "outputs": [],
   "source": [
    "def isValidMove(prevCf, nextCf, prevCtp, nextCtp):\n",
    "  isCons = c.isConsonant(nextCf, nextCtp)\n",
    "  isDirPerf = c.isDirectPerfect(prevCf, nextCf, prevCtp, nextCtp)\n",
    "  isNotDirPerf = not isDirPerf\n",
    "  isInRange = prevCtp - 12 <= nextCtp <= prevCtp + 12\n",
    "  return isCons and isInRange and not isNotDirPerf\n",
    "\n",
    "def addNodeAndEdge(G, melodyData, curNoteIndex, posOverride = False):\n",
    "  melody = melodyData['melody']\n",
    "  lastNoteIndex = len(melody) - 1\n",
    "  nextNoteIndex = curNoteIndex + 1\n",
    "  curNote = melody[curNoteIndex]\n",
    "  if curNoteIndex < lastNoteIndex:\n",
    "    nextNote = melody[curNoteIndex + 1]\n",
    "    if not posOverride:\n",
    "      nextMoves = melodyData[str(nextNote)]\n",
    "    else:\n",
    "      nextMoves = posOverride\n",
    "  else:\n",
    "    nextNote = None\n",
    "    nextMoves = []\n",
    "  for possCtp in nextMoves:\n",
    "    possStr = generateNodeString(curNoteIndex, curNote, possCtp)\n",
    "    validMoves = []\n",
    "    if(curNoteIndex < lastNoteIndex):\n",
    "      for move in nextMoves:\n",
    "        isValid = isValidMove(curNote, nextNote, possCtp, move)\n",
    "        if(isValid):\n",
    "          validMoves.append(move)\n",
    "    if(validMoves):\n",
    "      G.add_node(possStr)\n",
    "      for move in validMoves:\n",
    "        newNode = generateNodeString(nextNoteIndex, nextNote, move)\n",
    "        G.add_node(newNode)\n",
    "        G.add_edge(possStr, newNode)"
   ]
  },
  {
   "cell_type": "code",
   "execution_count": 310,
   "metadata": {},
   "outputs": [],
   "source": [
    "def constructInitialGraph(melodyData, willPrint = False):\n",
    "  melody = melodyData['melody']\n",
    "  G = nx.DiGraph()\n",
    "  prevNote = None\n",
    "  curNoteIndex = 0\n",
    "  lastNoteIndex = len(melody) - 1\n",
    "  for note in melody:\n",
    "    nextCf = curNoteIndex + 1\n",
    "    nextMoves = []\n",
    "    if(curNoteIndex < lastNoteIndex):\n",
    "      nextMoves = melodyData[str(melody[nextCf])]\n",
    "    validMoves = []\n",
    "    #special cases for first and last nodes\n",
    "    if(not curNoteIndex):\n",
    "      if melodyData['ctpIsAbove']:\n",
    "        posCtp = {note + 0, note + 3, note +7, note + 12, note + 16, note + 19}\n",
    "      else:\n",
    "        posCtp = {note, note - 12}\n",
    "      nextMoves = melodyData[str(melody[1])]\n",
    "      addNodeAndEdge(G, melodyData, curNoteIndex, posCtp)\n",
    "    elif(curNoteIndex == lastNoteIndex):\n",
    "      if melodyData['ctpIsAbove']:\n",
    "        posCtp = {note, note + 12}\n",
    "      else:\n",
    "        posCtp = {note, note - 12}\n",
    "      addNodeAndEdge(G, melodyData, curNoteIndex, posCtp)\n",
    "    else:\n",
    "      for possCtp in melodyData[str(note)]:\n",
    "        possString = generateNodeString(curNoteIndex, note, possCtp)\n",
    "        for move in nextMoves:\n",
    "          isValid = isValidMove(note, melody[nextCf], possCtp, move)\n",
    "          if(isValid):\n",
    "            validMoves.append(move)\n",
    "        if validMoves:\n",
    "          moveString = generateNodeString(curNoteIndex + 1, melody[curNoteIndex + 1], possCtp)\n",
    "          G.add_node(moveString)\n",
    "          for move in validMoves:\n",
    "            G.add_edge(possString, moveString)\n",
    "        else:\n",
    "          if G.has_node(possString):\n",
    "            G.remove_node(possString)\n",
    "    curNoteIndex += 1\n",
    "  removeIsolates(G)\n",
    "  if willPrint:\n",
    "    print(G.nodes)\n",
    "    print(G.edges)\n",
    "  return G\n"
   ]
  },
  {
   "cell_type": "code",
   "execution_count": 311,
   "metadata": {},
   "outputs": [],
   "source": [
    "def xTheNode(G, finalNode):\n",
    "  for node in G.nodes:\n",
    "    isPath = node.is_path(G, [node, finalNode])\n",
    "    if not isPath:\n",
    "      G.remove_nodes_from(node)\n",
    "      print(str(node) + ' failed')\n",
    "    else:\n",
    "      print(str(node))"
   ]
  },
  {
   "cell_type": "code",
   "execution_count": 312,
   "metadata": {},
   "outputs": [
    {
     "data": {
      "text/plain": [
       "' def pruneLeaves\\n  for node in G.nodes '"
      ]
     },
     "execution_count": 312,
     "metadata": {},
     "output_type": "execute_result"
    }
   ],
   "source": [
    "\"\"\" def pruneLeaves\n",
    "  for node in G.nodes \"\"\""
   ]
  },
  {
   "cell_type": "code",
   "execution_count": 313,
   "metadata": {},
   "outputs": [
    {
     "name": "stdout",
     "output_type": "stream",
     "text": [
      "{'melody': [0, 2, 0], 'intervalToNext': [2, -2], 'ctpIsAbove': True, '0': [4, 7, 9, 12, 16, 19], '2': [5, 9, 11, 14, 21]}\n",
      "['[2,0,5]', '[1,2,5]', '[2,0,9]', '[1,2,9]', '[2,0,11]', '[1,2,11]', '[2,0,14]', '[1,2,14]', '[2,0,21]', '[1,2,21]']\n",
      "[('[1,2,5]', '[2,0,5]'), ('[1,2,9]', '[2,0,9]'), ('[1,2,11]', '[2,0,11]'), ('[1,2,14]', '[2,0,14]'), ('[1,2,21]', '[2,0,21]')]\n",
      "[('[2,0,5]', 1), ('[1,2,5]', 1), ('[2,0,9]', 1), ('[1,2,9]', 1), ('[2,0,11]', 1), ('[1,2,11]', 1), ('[2,0,14]', 1), ('[1,2,14]', 1), ('[2,0,21]', 1), ('[1,2,21]', 1)]\n",
      "DiGraph with 10 nodes and 5 edges\n"
     ]
    },
    {
     "data": {
      "image/png": "[encoded data removed]",
      "text/plain": [
       "<Figure size 432x288 with 1 Axes>"
      ]
     },
     "metadata": {},
     "output_type": "display_data"
    },
    {
     "data": {
      "text/plain": [
       "<Figure size 14400x14400 with 0 Axes>"
      ]
     },
     "metadata": {},
     "output_type": "display_data"
    }
   ],
   "source": [
    "combos = getAllCombos([0,2,0], True)\n",
    "print(combos)\n",
    "G = constructInitialGraph(combos, True)\n",
    "print(G.degree())\n",
    "visualize(G)\n",
    "\n",
    "print(G)"
   ]
  },
  {
   "cell_type": "code",
   "execution_count": 314,
   "metadata": {},
   "outputs": [
    {
     "data": {
      "text/plain": [
       "' import classes as c\\n\\nprint(isValidMove(0,0,5,3))\\nprint(c.isConsonant(5,3)) '"
      ]
     },
     "execution_count": 314,
     "metadata": {},
     "output_type": "execute_result"
    }
   ],
   "source": [
    "\"\"\" import classes as c\n",
    "\n",
    "print(isValidMove(0,0,5,3))\n",
    "print(c.isConsonant(5,3)) \"\"\""
   ]
  },
  {
   "cell_type": "code",
   "execution_count": 315,
   "metadata": {},
   "outputs": [
    {
     "name": "stdout",
     "output_type": "stream",
     "text": [
      "Requirement already satisfied: pandas in /opt/anaconda3/envs/Synth/lib/python3.11/site-packages (1.5.3)\n",
      "Requirement already satisfied: python-dateutil>=2.8.1 in /opt/anaconda3/envs/Synth/lib/python3.11/site-packages (from pandas) (2.8.2)\n",
      "Requirement already satisfied: pytz>=2020.1 in /opt/anaconda3/envs/Synth/lib/python3.11/site-packages (from pandas) (2022.7.1)\n",
      "Requirement already satisfied: numpy>=1.21.0 in /opt/anaconda3/envs/Synth/lib/python3.11/site-packages (from pandas) (1.24.2)\n",
      "Requirement already satisfied: six>=1.5 in /opt/anaconda3/envs/Synth/lib/python3.11/site-packages (from python-dateutil>=2.8.1->pandas) (1.16.0)\n",
      "Note: you may need to restart the kernel to use updated packages.\n"
     ]
    }
   ],
   "source": [
    "pip install pandas"
   ]
  },
  {
   "cell_type": "code",
   "execution_count": 316,
   "metadata": {},
   "outputs": [],
   "source": [
    "def getValidCombos(melody, ):\n",
    "  data = getAllCombos(melody)\n",
    "  \n",
    "  #for note in melody:\n",
    "    # remove invalid notes\n",
    "\n",
    "def getLabels(i):\n",
    "  str1 = \"cf\" + str(i)\n",
    "  str2 = str1 + \"_moves\"\n",
    "  return [str1, str2]"
   ]
  },
  {
   "cell_type": "code",
   "execution_count": 320,
   "metadata": {},
   "outputs": [
    {
     "name": "stdout",
     "output_type": "stream",
     "text": [
      "     cf0_moves  cf0  cf1_moves  cf1  cf2_moves  cf2  cf3_moves  cf3  \\\n",
      "0            4    0          9    5          7    4         12    9   \n",
      "1            4    0          9    5          7    4         12    9   \n",
      "2            4    0          9    5          7    4         12    9   \n",
      "3            4    0          9    5          7    4         12    9   \n",
      "6            4    0          9    5         11    4         12    9   \n",
      "..         ...  ...        ...  ...        ...  ...        ...  ...   \n",
      "904         19    0         21    5         23    4         17    9   \n",
      "907         19    0         21    5         23    4         21    9   \n",
      "908         19    0         21    5         23    4         21    9   \n",
      "910         19    0         21    5         23    4         21    9   \n",
      "911         19    0         21    5         23    4         21    9   \n",
      "\n",
      "     cf4_moves  cf4  \n",
      "0           11    7  \n",
      "1           14    7  \n",
      "2           16    7  \n",
      "3           19    7  \n",
      "6           11    7  \n",
      "..         ...  ...  \n",
      "904         23    7  \n",
      "907         14    7  \n",
      "908         16    7  \n",
      "910         23    7  \n",
      "911         26    7  \n",
      "\n",
      "[660 rows x 10 columns]\n"
     ]
    }
   ],
   "source": [
    "import pandas as pd\n",
    "# Todo change to getvalidcombos once function is finished\n",
    "moves = getAllCombos([0,5,4,9,7], True)\n",
    "melody = moves[\"melody\"]\n",
    "perf = [0,5,7]\n",
    "\n",
    "#create dataframe for the first two columns\n",
    "firstNote = melody[0]\n",
    "series = None\n",
    "curIndex = 0\n",
    "prevCf, prevCtp = getLabels(0)\n",
    "series = pd.DataFrame(moves[str(firstNote)], columns = [prevCtp])\n",
    "series[\"join_key\"] = 1\n",
    "series[prevCf] = firstNote\n",
    "\n",
    "# create new data frame for each note in the melody\n",
    "# join it to the previous dataframe\n",
    "for i in range(1, len(melody)):\n",
    "  note = melody[i]\n",
    "  nextIndex = i + 1\n",
    "  curMoves = moves[str(note)]\n",
    "  cf, ctp = getLabels(i)\n",
    "  addFrame = pd.DataFrame(curMoves, columns = [ctp])\n",
    "  addFrame[\"join_key\"] = 1\n",
    "  addFrame[cf] = note\n",
    "  series = series.merge(addFrame, how = \"inner\", on = \"join_key\")\n",
    "  \n",
    "  #filtering\n",
    "  series = series.loc[\n",
    "    # parallel unisons or octaves\n",
    "    ~((abs(series[prevCf] - series[prevCtp]) % 12 == 0) & (abs(series[cf] - series[ctp]) % 12 == abs(series[prevCf] - series[prevCtp]) % 12)),\n",
    "  ]\n",
    "  series = series.loc[\n",
    "    # parallel fourths\n",
    "    ~((abs(series[prevCf] - series[prevCtp]) % 12 == 5) & (abs(series[cf] - series[ctp]) % 12 == abs(series[prevCf] - series[prevCtp]) % 12)),\n",
    "  ]\n",
    "  series = series.loc[\n",
    "    # parallel fifths\n",
    "    ~((abs(series[prevCf] - series[prevCtp]) % 12 == 7) & (abs(series[cf] - series[ctp]) % 12 == abs(series[prevCf] - series[prevCtp]) % 12))\n",
    "  ]\n",
    "  series = series.loc[\n",
    "    (series[prevCtp] - 9 < series[ctp])\n",
    "  ]\n",
    "  series = series.loc[\n",
    "    (series[ctp] < series[prevCtp] + 9)\n",
    "  ]\n",
    "  \n",
    "  prevCf, prevCtp = cf, ctp\n",
    "\n",
    "#Delete A column\n",
    "series = series.drop(\"join_key\", axis=1)\n",
    "\n",
    "print(series)\n"
   ]
  }
 ],
 "metadata": {
  "kernelspec": {
   "display_name": "Synth",
   "language": "python",
   "name": "python3"
  },
  "language_info": {
   "codemirror_mode": {
    "name": "ipython",
    "version": 3
   },
   "file_extension": ".py",
   "mimetype": "text/x-python",
   "name": "python",
   "nbconvert_exporter": "python",
   "pygments_lexer": "ipython3",
   "version": "3.11.0"
  },
  "orig_nbformat": 4
 },
 "nbformat": 4,
 "nbformat_minor": 2
}
