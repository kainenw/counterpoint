{
 "cells": [
  {
   "cell_type": "code",
   "execution_count": 74,
   "metadata": {},
   "outputs": [],
   "source": [
    "import scales\n",
    "\n",
    "def isInGamut(note, gamutType = \"dia\", mode = \"i\"):\n",
    "  gamut = scales.scales[gamutType][mode]\n",
    "  contains = gamut.__contains__(note)\n",
    "  return contains"
   ]
  },
  {
   "cell_type": "code",
   "execution_count": 72,
   "metadata": {},
   "outputs": [],
   "source": [
    "from tests import testHigherCf, testLowerCf\n",
    "\n",
    "from classes import intervalClassModTwelve\n",
    "\n",
    "# todo detect gamut type and mode\n",
    "def getAllCombos(melody, isAbove, gamutType = \"dia\", mode = \"i\"):\n",
    "  combos = {\n",
    "    'melody': melody,\n",
    "    'intervalToNext': [],\n",
    "  }\n",
    "  prevNote = None\n",
    "  intervals = [3,4,7,8,9,16,19]\n",
    "  for note in melody:\n",
    "    possibleNotes = []\n",
    "    for interval in intervals:\n",
    "      if isAbove:\n",
    "        possibleNote = note - interval\n",
    "        if isInGamut(note, gamutType, mode):\n",
    "          possibleNotes.append(possibleNote)\n",
    "      else:\n",
    "        possibleNote = note + interval\n",
    "        if isInGamut(note, gamutType, mode):\n",
    "          possibleNotes.append(possibleNote)\n",
    "    if(prevNote != None):\n",
    "      combos[\"intervalToNext\"].append(note - prevNote)\n",
    "\n",
    "    combos[str(note)] = possibleNotes\n",
    "    \"\"\" print(\"note: \" + str(note) + \"\\n\" + \"prevNote: \" + str(prevNote)) \"\"\"\n",
    "    prevNote = note\n",
    "  return combos"
   ]
  },
  {
   "cell_type": "code",
   "execution_count": 75,
   "metadata": {},
   "outputs": [
    {
     "name": "stdout",
     "output_type": "stream",
     "text": [
      "{'melody': [12, 11, 5, 7, 5, 2, 4, 9, 7, 11, 9, 7, 7, 11, 9, 12], 'intervalToNext': [-1, -6, 2, -2, -3, 2, 5, -2, 4, -2, -2, 0, 4, -2, 3], '12': [], '11': [14, 15, 18, 19, 20, 23, 27, 30], '5': [8, 9, 12, 13, 14, 17, 21, 24], '7': [10, 11, 14, 15, 16, 19, 23, 26], '2': [5, 6, 9, 10, 11, 14, 18, 21], '4': [7, 8, 11, 12, 13, 16, 20, 23], '9': [12, 13, 16, 17, 18, 21, 25, 28]}\n"
     ]
    }
   ],
   "source": [
    "print(getAllCombos(testHigherCf[\"i\"], False))"
   ]
  }
 ],
 "metadata": {
  "kernelspec": {
   "display_name": "Synth",
   "language": "python",
   "name": "python3"
  },
  "language_info": {
   "codemirror_mode": {
    "name": "ipython",
    "version": 3
   },
   "file_extension": ".py",
   "mimetype": "text/x-python",
   "name": "python",
   "nbconvert_exporter": "python",
   "pygments_lexer": "ipython3",
   "version": "3.11.0"
  },
  "orig_nbformat": 4
 },
 "nbformat": 4,
 "nbformat_minor": 2
}
