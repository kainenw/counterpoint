{
 "cells": [
  {
   "cell_type": "code",
   "execution_count": 1,
   "metadata": {
    "tags": []
   },
   "outputs": [
    {
     "name": "stdout",
     "output_type": "stream",
     "text": [
      "imperfect\n",
      "7\n",
      "-7\n",
      "perfect\n",
      "False\n",
      "is direct perfect: False\n",
      "cons\n",
      "True\n"
     ]
    }
   ],
   "source": [
    "from classes import is_consonant, is_direct_perfect\n",
    "\n",
    "def is_valid_move(prev1, next1, prev2, next2):\n",
    "    is_cons = is_consonant(next1, next2)\n",
    "    if is_cons:\n",
    "        is_dir_perf = is_direct_perfect(prev1, next1, prev2, next2)\n",
    "        print(\"is direct perfect:\", is_direct_perfect(2,0,11,12))\n",
    "        if not is_dir_perf:\n",
    "            print(\"cons\")\n",
    "            is_in_range = prev2 - 8 <= next2 <= prev2 + 8\n",
    "            if is_in_range:\n",
    "                return True\n",
    "    return False\n",
    "\n",
    "print(is_valid_move(2,0,11,12))"
   ]
  },
  {
   "cell_type": "code",
   "execution_count": 2,
   "metadata": {
    "tags": []
   },
   "outputs": [],
   "source": [
    "import classes\n",
    "\n",
    "def get_all_combos(melody, ctp_is_above):\n",
    "    key = [0,2,4,5,7,9,11]\n",
    "    mode = melody[0]\n",
    "    combos = {\n",
    "        \"melody\": melody,\n",
    "        \"mode\": mode,\n",
    "        \"interval_to_next\": [],\n",
    "        \"ctp_is_above\": ctp_is_above,\n",
    "    }\n",
    "    pre_note = None\n",
    "    intervals = [3, 4, 7, 8, 9, 12, 16, 19]\n",
    "    for note in melody:\n",
    "        possible_notes = []\n",
    "        for interval in intervals:\n",
    "            if ctp_is_above:\n",
    "                possible_note = note + interval\n",
    "            else:\n",
    "                possible_note = note - interval\n",
    "            is_in_key = key.__contains__(possible_note % 12)\n",
    "            if is_in_key:\n",
    "                possible_notes.append(possible_note)\n",
    "        if pre_note != None:\n",
    "            combos[\"interval_to_next\"].append(note - pre_note)\n",
    "        combos[str(note)] = possible_notes\n",
    "        pre_note = note\n",
    "    return combos"
   ]
  },
  {
   "cell_type": "code",
   "execution_count": 3,
   "metadata": {},
   "outputs": [],
   "source": [
    "def findCounterpoint(melody):\n",
    "  counterpoint = []\n",
    "  # Your code to generate the counterpoint line goes here\n",
    "  return counterpoint"
   ]
  }
 ],
 "metadata": {
  "kernelspec": {
   "display_name": "Python 3 (ipykernel)",
   "language": "python",
   "name": "python3"
  },
  "language_info": {
   "codemirror_mode": {
    "name": "ipython",
    "version": 3
   },
   "file_extension": ".py",
   "mimetype": "text/x-python",
   "name": "python",
   "nbconvert_exporter": "python",
   "pygments_lexer": "ipython3",
   "version": "3.11.5"
  }
 },
 "nbformat": 4,
 "nbformat_minor": 4
}
