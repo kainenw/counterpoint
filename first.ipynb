{
 "cells": [
  {
   "cell_type": "code",
   "execution_count": 1,
   "metadata": {},
   "outputs": [
    {
     "name": "stdout",
     "output_type": "stream",
     "text": [
      "Requirement already satisfied: pip in /Users/k/anaconda3/lib/python3.11/site-packages (from -r requirements.txt (line 1)) (23.3.1)\n",
      "Requirement already satisfied: numpy in /Users/k/anaconda3/lib/python3.11/site-packages (from -r requirements.txt (line 2)) (1.26.0)\n",
      "Requirement already satisfied: scipy in /Users/k/anaconda3/lib/python3.11/site-packages (from -r requirements.txt (line 3)) (1.11.3)\n",
      "Requirement already satisfied: pyaudio in /Users/k/anaconda3/lib/python3.11/site-packages (from -r requirements.txt (line 4)) (0.2.13)\n",
      "Requirement already satisfied: networkx in /Users/k/anaconda3/lib/python3.11/site-packages (from -r requirements.txt (line 5)) (3.1)\n",
      "Requirement already satisfied: matplotlib in /Users/k/anaconda3/lib/python3.11/site-packages (from -r requirements.txt (line 6)) (3.8.0)\n",
      "Requirement already satisfied: contourpy>=1.0.1 in /Users/k/anaconda3/lib/python3.11/site-packages (from matplotlib->-r requirements.txt (line 6)) (1.0.5)\n",
      "Requirement already satisfied: cycler>=0.10 in /Users/k/anaconda3/lib/python3.11/site-packages (from matplotlib->-r requirements.txt (line 6)) (0.12.0)\n",
      "Requirement already satisfied: fonttools>=4.22.0 in /Users/k/anaconda3/lib/python3.11/site-packages (from matplotlib->-r requirements.txt (line 6)) (4.43.0)\n",
      "Requirement already satisfied: kiwisolver>=1.0.1 in /Users/k/anaconda3/lib/python3.11/site-packages (from matplotlib->-r requirements.txt (line 6)) (1.4.5)\n",
      "Requirement already satisfied: packaging>=20.0 in /Users/k/anaconda3/lib/python3.11/site-packages (from matplotlib->-r requirements.txt (line 6)) (23.1)\n",
      "Requirement already satisfied: pillow>=6.2.0 in /Users/k/anaconda3/lib/python3.11/site-packages (from matplotlib->-r requirements.txt (line 6)) (9.4.0)\n",
      "Requirement already satisfied: pyparsing>=2.3.1 in /Users/k/anaconda3/lib/python3.11/site-packages (from matplotlib->-r requirements.txt (line 6)) (3.1.1)\n",
      "Requirement already satisfied: python-dateutil>=2.7 in /Users/k/anaconda3/lib/python3.11/site-packages (from matplotlib->-r requirements.txt (line 6)) (2.8.2)\n",
      "Requirement already satisfied: six>=1.5 in /Users/k/anaconda3/lib/python3.11/site-packages (from python-dateutil>=2.7->matplotlib->-r requirements.txt (line 6)) (1.16.0)\n",
      "Note: you may need to restart the kernel to use updated packages.\n"
     ]
    }
   ],
   "source": [
    "pip install -r requirements.txt"
   ]
  },
  {
   "cell_type": "code",
   "execution_count": 5,
   "metadata": {},
   "outputs": [
    {
     "name": "stdout",
     "output_type": "stream",
     "text": [
      "9\n",
      "True\n"
     ]
    }
   ],
   "source": [
    "import classes\n",
    "\n",
    "\n",
    "def isValidMove(prev1, next1, prev2, next2):\n",
    "    isCons = classes.isConsonant(next1, next2)\n",
    "    if isCons:\n",
    "        isDirPerf = classes.isDirectPerfect(prev1, next1, prev2, next2)\n",
    "        if not isDirPerf:\n",
    "            isInRange = prev2 - 8 <= next2 <= prev2 + 8\n",
    "            if isInRange == True:\n",
    "                return True\n",
    "    return False\n",
    "\n",
    "\n",
    "print(isValidMove(0, 2, 12, 11))"
   ]
  },
  {
   "cell_type": "markdown",
   "metadata": {},
   "source": [
    "mini-test"
   ]
  },
  {
   "cell_type": "code",
   "execution_count": 6,
   "metadata": {},
   "outputs": [
    {
     "name": "stdout",
     "output_type": "stream",
     "text": [
      "{'melody': [0, 2, 4, 5, 7, 9, 11, 12], 'mode': [0, 2, 4, 5, 7, 9, 11], 'intervalToNext': [2, 2, 1, 2, 2, 2, 1], 'ctpIsAbove': True, '0': [4, 7, 9, 12, 16, 19], '2': [5, 9, 11, 14, 21], '4': [7, 11, 12, 16, 23], '5': [9, 12, 14, 17, 21, 24], '7': [11, 14, 16, 19, 23, 26], '9': [12, 16, 17, 21, 28], '11': [14, 19, 23], '12': [16, 19, 21, 24, 28, 31]}\n"
     ]
    }
   ],
   "source": [
    "import classes\n",
    "import scales\n",
    "\n",
    "def getAllCombos(melody, ctpIsAbove):\n",
    "    mode = scales.detectMode(melody)\n",
    "    combos = {\n",
    "        \"melody\": melody,\n",
    "        \"mode\": mode,\n",
    "        \"intervalToNext\": [],\n",
    "        \"ctpIsAbove\": ctpIsAbove,\n",
    "    }\n",
    "    prevNote = None\n",
    "    intervals = [3, 4, 7, 8, 9, 12, 16, 19]\n",
    "    for note in melody:\n",
    "        possibleNotes = []\n",
    "        for interval in intervals:\n",
    "            if ctpIsAbove:\n",
    "                possibleNote = note + interval\n",
    "            else:\n",
    "                possibleNote = note - interval\n",
    "            if scales.isInGamut(possibleNote, mode):\n",
    "                possibleNotes.append(possibleNote)\n",
    "        if prevNote != None:\n",
    "            combos[\"intervalToNext\"].append(note - prevNote)\n",
    "        combos[str(note)] = possibleNotes\n",
    "        prevNote = note\n",
    "    return combos\n",
    "  \n",
    "print(getAllCombos([0, 2, 4, 5, 7, 9, 11, 12], True))"
   ]
  },
  {
   "cell_type": "code",
   "execution_count": 4,
   "metadata": {},
   "outputs": [],
   "source": [
    "import random\n",
    "\n",
    "\n",
    "def randomMelody(length, mode):\n",
    "    melody = []\n",
    "    for i in range(length):\n",
    "        melody.append(random.choice(mode))\n",
    "    return melody\n",
    "\n",
    "# todo: see trello\n",
    "def justifiableLeap(graph, edge):\n",
    "    outNode = edge[0]\n",
    "    inNode = edge[1]"
   ]
  },
  {
   "cell_type": "markdown",
   "metadata": {},
   "source": [
    "def findCounterpoint(melody):\n",
    "  counterpoint = []\n",
    "  # Your code to generate the counterpoint line goes here\n",
    "  return counterpoint\n"
   ]
  }
 ],
 "metadata": {
  "kernelspec": {
   "display_name": "Python 3 (ipykernel)",
   "language": "python",
   "name": "python3"
  },
  "language_info": {
   "codemirror_mode": {
    "name": "ipython",
    "version": 3
   },
   "file_extension": ".py",
   "mimetype": "text/x-python",
   "name": "python",
   "nbconvert_exporter": "python",
   "pygments_lexer": "ipython3",
   "version": "3.11.5"
  }
 },
 "nbformat": 4,
 "nbformat_minor": 2
}
