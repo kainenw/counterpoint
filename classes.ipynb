{
 "cells": [
  {
   "cell_type": "markdown",
   "metadata": {},
   "source": [
    "# Analyze cf notes and features\n"
   ]
  },
  {
   "cell_type": "markdown",
   "metadata": {},
   "source": [
    "## Pitch Class (a single note)"
   ]
  },
  {
   "cell_type": "code",
   "execution_count": null,
   "metadata": {
    "tags": []
   },
   "outputs": [
    {
     "ename": "",
     "evalue": "",
     "output_type": "error",
     "traceback": [
      "\u001b[1;31mRunning cells with '/opt/homebrew/bin/python3.12' requires the ipykernel package.\n",
      "\u001b[1;31mRun the following command to install 'ipykernel' into the Python environment. \n",
      "\u001b[1;31mCommand: '/opt/homebrew/bin/python3.12 -m pip install ipykernel -U --user --force-reinstall'"
     ]
    }
   ],
   "source": [
    "# pitch class from 0 to 12\n",
    "def pitch_class(num):\n",
    "  return num % 12"
   ]
  },
  {
   "cell_type": "markdown",
   "metadata": {},
   "source": [
    "## Interval Class (between two simultaneous notes)"
   ]
  },
  {
   "cell_type": "code",
   "execution_count": null,
   "metadata": {
    "tags": []
   },
   "outputs": [
    {
     "ename": "",
     "evalue": "",
     "output_type": "error",
     "traceback": [
      "\u001b[1;31mRunning cells with '/opt/homebrew/bin/python3.12' requires the ipykernel package.\n",
      "\u001b[1;31mRun the following command to install 'ipykernel' into the Python environment. \n",
      "\u001b[1;31mCommand: '/opt/homebrew/bin/python3.12 -m pip install ipykernel -U --user --force-reinstall'"
     ]
    }
   ],
   "source": [
    "def interval_class(num1, num2):\n",
    "    interval = (num2 - num1)\n",
    "    return interval\n",
    "\n",
    "consonance = {\n",
    "    'perfect': [0, 5, 7],\n",
    "    'imperfect': [3, 4, 8, 9]\n",
    "}\n",
    "\n",
    "dissonance = [1, 2, 6, 10, 11]\n",
    "\n",
    "def is_consonant(num1, num2):\n",
    "    interval = interval_class(num1, num2)\n",
    "    if interval in consonance['perfect'] and interval != 5:\n",
    "        return 'perfect'\n",
    "    elif interval in consonance['imperfect']:\n",
    "        return 'imperfect'\n",
    "    else:\n",
    "        return False\n",
    "\n",
    "print(is_consonant(2, 11))\n",
    "print(interval_class(0, 7))\n",
    "print(interval_class(7, 0))\n",
    "print(is_consonant(7, 26))"
   ]
  },
  {
   "cell_type": "markdown",
   "metadata": {},
   "source": [
    "#### Motion Types (from the transition from two simultaneous notes to two other simultaneous notes)\n",
    "- Parallel: 2\n",
    "- Direct: 1\n",
    "- Oblique: 0\n",
    "- Contrary: -1"
   ]
  },
  {
   "cell_type": "code",
   "execution_count": null,
   "metadata": {},
   "outputs": [
    {
     "ename": "",
     "evalue": "",
     "output_type": "error",
     "traceback": [
      "\u001b[1;31mRunning cells with '/opt/homebrew/bin/python3.12' requires the ipykernel package.\n",
      "\u001b[1;31mRun the following command to install 'ipykernel' into the Python environment. \n",
      "\u001b[1;31mCommand: '/opt/homebrew/bin/python3.12 -m pip install ipykernel -U --user --force-reinstall'"
     ]
    }
   ],
   "source": [
    "def motion(prev1, next1, prev2, next2):\n",
    "    interval1 = interval_class(prev1, next1)\n",
    "    interval2 = interval_class(prev2, next2)\n",
    "    motion_value = interval1 * interval2\n",
    "    if interval1 == interval2:\n",
    "      return 2\n",
    "    elif motion_value > 0:\n",
    "      return 1\n",
    "    elif motion_value < 0:\n",
    "      return -1\n",
    "    elif motion_value == 0:\n",
    "      return 0\n",
    "\n",
    "\n",
    "def is_direct_perfect(prev1, next1, prev2, next2):\n",
    "    next_interval = interval_class(next1, next2)\n",
    "    is_direct = motion(prev1, next1, prev2, next2) > 0\n",
    "    is_perfect = consonance[\"perfect\"].__contains__(next_interval)\n",
    "    return is_direct and is_perfect\n",
    "\n",
    "\n",
    "print(is_direct_perfect(2, 0, 11, 12))\n"
   ]
  }
 ],
 "metadata": {
  "kernelspec": {
   "display_name": "Python 3 (ipykernel)",
   "language": "python",
   "name": "python3"
  },
  "language_info": {
   "codemirror_mode": {
    "name": "ipython",
    "version": 3
   },
   "file_extension": ".py",
   "mimetype": "text/x-python",
   "name": "python",
   "nbconvert_exporter": "python",
   "pygments_lexer": "ipython3",
   "version": "3.12.1"
  }
 },
 "nbformat": 4,
 "nbformat_minor": 4
}
