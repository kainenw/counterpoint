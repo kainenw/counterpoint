{
 "cells": [
  {
   "cell_type": "markdown",
   "metadata": {},
   "source": [
    "# Analyze cf notes and features\n"
   ]
  },
  {
   "cell_type": "markdown",
   "metadata": {},
   "source": [
    "## Pitch Class (a single note)"
   ]
  },
  {
   "cell_type": "code",
   "execution_count": 3,
   "metadata": {},
   "outputs": [],
   "source": [
    "# pitch class from 0 to 12\n",
    "def pitchClass(num):\n",
    "  return num % 12"
   ]
  },
  {
   "cell_type": "markdown",
   "metadata": {},
   "source": [
    "## Interval Class (between two simultaneous notes)"
   ]
  },
  {
   "cell_type": "code",
   "execution_count": 24,
   "metadata": {},
   "outputs": [
    {
     "name": "stdout",
     "output_type": "stream",
     "text": [
      "9\n",
      "imperfect\n"
     ]
    }
   ],
   "source": [
    "# interval class (negative or positive)\n",
    "def interval_class(num1, num2):\n",
    "  num1 = pitchClass(num1)\n",
    "  num2 = pitchClass(num2)\n",
    "  interval = num2 - num1\n",
    "  return interval\n",
    "  \n",
    "\n",
    "# interval categories\n",
    "consonance = {\n",
    "  'perfect': [0, 5, 7],\n",
    "  'imperfect': [3, 4, 8, 9]\n",
    "}\n",
    "dissonance = [1, 2, 6, 10, 11]\n",
    "\n",
    "def isConsonant(num1,num2):\n",
    "  interval = interval_class(num1,num2)\n",
    "  print(interval)\n",
    "  # perfect 4ths (categorized as positive 5) are not counted as consonants by Fux in 1st species\n",
    "  if (consonance[\"perfect\"].__contains__(interval) and interval != 5):\n",
    "    return \"perfect\"\n",
    "  elif (consonance[\"imperfect\"].__contains__(interval)):\n",
    "    return \"imperfect\"\n",
    "  else:\n",
    "    return False\n",
    "\n",
    "print(isConsonant(2, 11))"
   ]
  },
  {
   "cell_type": "markdown",
   "metadata": {},
   "source": [
    "#### Motion Types (from the transition from two simultaneous notes to two other simultaneous notes)\n",
    "- Parallel: 2\n",
    "- Direct: 1\n",
    "- Oblique: 0\n",
    "- Contrary: -1"
   ]
  },
  {
   "cell_type": "code",
   "execution_count": 26,
   "metadata": {},
   "outputs": [
    {
     "data": {
      "text/plain": [
       "' \\n\\n\\ndef isParallelPerfect(prev1, next1, prev2, next2):\\n    int1 = int(prev1, prev2)\\n    isPerfect = consonance[\"perfect\"].__contains__(int1)\\n    if isPerfect:\\n      motion = motion(prev1, next1, prev2, next2)\\n      return motion == 2\\n    else:\\n      return False '"
      ]
     },
     "execution_count": 26,
     "metadata": {},
     "output_type": "execute_result"
    }
   ],
   "source": [
    "def motion(prev1, next1, prev2, next2):\n",
    "    interval1 = interval_class(prev1, next1)\n",
    "    interval2 = interval_class(prev2, next2)\n",
    "    if interval1 == interval2:\n",
    "        return 2\n",
    "    motion = interval1 * interval2 / abs(interval1 * interval2)\n",
    "    return motion\n",
    "\n",
    "\n",
    "def isDirectPerfect(prev1, next1, prev2, next2):\n",
    "    next_interval = interval_class(next1, next2)\n",
    "    isDirect = motion(prev1, next1, prev2, next2) > 0\n",
    "    isPerfect = consonance[\"perfect\"].__contains__(next_interval)\n",
    "    return isDirect and isPerfect\n",
    "\n",
    "\n",
    "\"\"\" \n",
    "\n",
    "\n",
    "def isParallelPerfect(prev1, next1, prev2, next2):\n",
    "    int1 = int(prev1, prev2)\n",
    "    isPerfect = consonance[\"perfect\"].__contains__(int1)\n",
    "    if isPerfect:\n",
    "      motion = motion(prev1, next1, prev2, next2)\n",
    "      return motion == 2\n",
    "    else:\n",
    "      return False \"\"\""
   ]
  }
 ],
 "metadata": {
  "kernelspec": {
   "display_name": "base",
   "language": "python",
   "name": "python3"
  },
  "language_info": {
   "codemirror_mode": {
    "name": "ipython",
    "version": 3
   },
   "file_extension": ".py",
   "mimetype": "text/x-python",
   "name": "python",
   "nbconvert_exporter": "python",
   "pygments_lexer": "ipython3",
   "version": "3.11.5"
  }
 },
 "nbformat": 4,
 "nbformat_minor": 2
}
