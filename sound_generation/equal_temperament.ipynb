{
 "cells": [
  {
   "cell_type": "code",
   "execution_count": 15,
   "metadata": {},
   "outputs": [],
   "source": [
    "import math\n",
    "\n",
    "def ET(octave_divisions):\n",
    "    # ratio between semitones\n",
    "    semitone = math.pow(2, 1 / octave_divisions)\n",
    "\n",
    "    def hz(num):\n",
    "        ref_hz = 440  # (A4 = 440Hz) reference pitch\n",
    "        ref_num = 49  # (A4) reference number\n",
    "        # ratio from base frequency\n",
    "        distance = num - ref_num\n",
    "        \n",
    "        ratio = math.pow(semitone, distance)\n",
    "\n",
    "        # return frequency\n",
    "        return ref_hz * ratio\n",
    "\n",
    "    tones = list()\n",
    "    for i in range(0, 88):\n",
    "        pitch = hz(i)\n",
    "        tones.append(pitch)\n",
    "\n",
    "    return tones\n",
    "\n"
   ]
  },
  {
   "cell_type": "markdown",
   "metadata": {},
   "source": [
    "Example usage"
   ]
  },
  {
   "cell_type": "code",
   "execution_count": 16,
   "metadata": {},
   "outputs": [],
   "source": [
    "# 12-tone\n",
    "TTET = ET(12)"
   ]
  }
 ],
 "metadata": {
  "kernelspec": {
   "display_name": "Synth",
   "language": "python",
   "name": "python3"
  },
  "language_info": {
   "codemirror_mode": {
    "name": "ipython",
    "version": 3
   },
   "file_extension": ".py",
   "mimetype": "text/x-python",
   "name": "python",
   "nbconvert_exporter": "python",
   "pygments_lexer": "ipython3",
   "version": "3.11.5"
  },
  "orig_nbformat": 4
 },
 "nbformat": 4,
 "nbformat_minor": 2
}
