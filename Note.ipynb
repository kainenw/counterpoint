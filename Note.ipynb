{
 "cells": [
  {
   "cell_type": "code",
   "execution_count": 5,
   "metadata": {},
   "outputs": [
    {
     "name": "stdout",
     "output_type": "stream",
     "text": [
      "Cantus Firmus: [Note<pitch=60, duration=1.0, position=0>, Note<pitch=62, duration=1.0, position=1>, Note<pitch=64, duration=1.0, position=2>, Note<pitch=65, duration=1.0, position=3>, Note<pitch=67, duration=1.0, position=4>]\n",
      "Counterpoint Solution: [Note<pitch=67, duration=1.0, position=0>, Note<pitch=69, duration=1.0, position=1>, Note<pitch=70, duration=1.0, position=2>, Note<pitch=72, duration=1.0, position=3>, Note<pitch=74, duration=1.0, position=4>]\n"
     ]
    }
   ],
   "source": [
    "class Note:\n",
    "    \"\"\"\n",
    "    A class to represent a single musical note.\n",
    "    Attributes:\n",
    "        pitch (int): MIDI number representing the pitch (e.g., 60 = Middle C).\n",
    "        duration (float): Duration of the note (e.g., 1 for a whole note).\n",
    "        position (int): Position of the note in the sequence.\n",
    "    \"\"\"\n",
    "    def __init__(self, pitch, duration, position):\n",
    "        self.pitch = pitch\n",
    "        self.duration = duration\n",
    "        self.position = position\n",
    "\n",
    "    def __repr__(self):\n",
    "        return f\"Note<pitch={self.pitch}, duration={self.duration}, position={self.position}>\"\n",
    "\n",
    "\n",
    "def represent_cantus_firmus(pitches):\n",
    "    \"\"\"\n",
    "    Converts a sequence of pitches into a cantus firmus representation.\n",
    "    Args:\n",
    "        pitches (list[int]): A list of MIDI pitch numbers representing the cantus firmus.\n",
    "    Returns:\n",
    "        list[Note]: A list of Note objects, each representing a note in the cantus firmus.\n",
    "    \"\"\"\n",
    "    cantus_firmus = [Note(pitch=p, duration=1.0, position=i) for i, p in enumerate(pitches)]\n",
    "    return cantus_firmus\n",
    "\n",
    "\n",
    "def represent_counterpoint_solution(cf_notes, cp_pitches):\n",
    "    \"\"\"\n",
    "    Creates a counterpoint solution representation corresponding to a cantus firmus.\n",
    "    Args:\n",
    "        cf_notes (list[Note]): The cantus firmus represented as a list of Note objects.\n",
    "        cp_pitches (list[int]): A list of MIDI pitch numbers for the counterpoint solution.\n",
    "    Returns:\n",
    "        list[Note]: A list of Note objects representing the counterpoint solution.\n",
    "    \"\"\"\n",
    "    if len(cf_notes) != len(cp_pitches):\n",
    "        raise ValueError(\"The number of counterpoint notes must match the number of cantus firmus notes.\")\n",
    "\n",
    "    counterpoint_solution = [\n",
    "        Note(pitch=cp_pitches[i], duration=cf_notes[i].duration, position=cf_notes[i].position)\n",
    "        for i in range(len(cf_notes))\n",
    "    ]\n",
    "    return counterpoint_solution\n",
    "\n",
    "# Example Usage:\n",
    "# Define the cantus firmus pitches (e.g., C4, D4, E4 -> 60, 62, 64 in MIDI).\n",
    "cf_pitches = [60, 62, 64, 65, 67]\n",
    "\n",
    "# Represent the cantus firmus.\n",
    "cantus_firmus = represent_cantus_firmus(cf_pitches)\n",
    "print(\"Cantus Firmus:\", cantus_firmus)\n",
    "\n",
    "# Define a possible counterpoint solution.\n",
    "cp_pitches = [67, 69, 70, 72, 74]\n",
    "\n",
    "# Represent the counterpoint solution.\n",
    "counterpoint_solution = represent_counterpoint_solution(cantus_firmus, cp_pitches)\n",
    "print(\"Counterpoint Solution:\", counterpoint_solution)\n"
   ]
  }
 ],
 "metadata": {
  "kernelspec": {
   "display_name": "Python 3",
   "language": "python",
   "name": "python3"
  },
  "language_info": {
   "codemirror_mode": {
    "name": "ipython",
    "version": 3
   },
   "file_extension": ".py",
   "mimetype": "text/x-python",
   "name": "python",
   "nbconvert_exporter": "python",
   "pygments_lexer": "ipython3",
   "version": "3.12.4"
  }
 },
 "nbformat": 4,
 "nbformat_minor": 2
}
